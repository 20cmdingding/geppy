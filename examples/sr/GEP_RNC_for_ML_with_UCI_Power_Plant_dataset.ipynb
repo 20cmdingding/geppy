{
 "cells": [
  {
   "cell_type": "markdown",
   "metadata": {},
   "source": [
    "# Symbolic Regression on real data\n",
    "## Use the GEP-RNC algorithm with the UCI Power Plant dataset  \n",
    "In this example, we aim to test how well GEP-RNC works solving machine learning problems over real data. The dataset we will use is the UCI Power Plant dataset:\n",
    "\n",
    "https://archive.ics.uci.edu/ml/datasets/combined+cycle+power+plant\n",
    "\n",
    "This task requires us to predict the **Power Output** of a power plant given the environmental variables of:\n",
    "**Atmospheric Temperature**, **Exhaust Vacuum Speed**, **Atmospheric Pressure**, and **Relative Humidity**.\n",
    "\n",
    "This is a typical machine learning regression problem which we will try and evolve using *Gene Expression Programming with Random Numerical Constants*.\n",
    "\n",
    "https://en.wikipedia.org/wiki/Gene_expression_programming\n",
    "\n",
    "## Notes\n",
    "Places to get familiar with GEP and *geppy* are here:\n",
    "\n",
    "+ [Introduction to gene expression programming](https://geppy.readthedocs.io/en/latest/intro_GEP.html)\n",
    "+ [Overview of geppy for Gene Expression Programming (GEP)](https://geppy.readthedocs.io/en/latest/overview.html)\n",
    "\n",
    "To check the detailed documentation of each function/class in *geppy*, please refer to [library reference](https://geppy.readthedocs.io/en/latest/#library-reference).\n",
    "\n",
    "** Be advised this example is a revision of the original example at:**\n",
    "\n",
    "https://github.com/ShuhuaGao/geppy/blob/master/examples/sr/numerical_expression_inference-RNC.ipynb\n",
    "\n",
    "originally created by **Shuhua Gao**"
   ]
  },
  {
   "cell_type": "markdown",
   "metadata": {},
   "source": [
    "# Code:"
   ]
  },
  {
   "cell_type": "code",
   "execution_count": 1,
   "metadata": {},
   "outputs": [],
   "source": [
    "import geppy as gep\n",
    "from deap import creator, base, tools\n",
    "import numpy as np\n",
    "import random\n",
    "\n",
    "import operator \n",
    "import math\n",
    "import datetime\n",
    "\n",
    "# for reproduction\n",
    "s = 0\n",
    "random.seed(s)\n",
    "np.random.seed(s)"
   ]
  },
  {
   "cell_type": "code",
   "execution_count": 2,
   "metadata": {},
   "outputs": [],
   "source": [
    "import pandas as pd"
   ]
  },
  {
   "cell_type": "code",
   "execution_count": 3,
   "metadata": {
    "scrolled": true
   },
   "outputs": [
    {
     "name": "stdout",
     "output_type": "stream",
     "text": [
      "['UCI_PowerPlant.csv']\n"
     ]
    }
   ],
   "source": [
    "import os\n",
    "\n",
    "#doublecheck the data is there\n",
    "print(os.listdir(\"../../data/.\"))"
   ]
  },
  {
   "cell_type": "code",
   "execution_count": 4,
   "metadata": {},
   "outputs": [],
   "source": [
    "# read in the data to pandas\n",
    "PowerPlantData = pd.read_csv(\"../../data/UCI_PowerPlant.csv\")"
   ]
  },
  {
   "cell_type": "markdown",
   "metadata": {},
   "source": [
    "## Notes on the ML training data\n",
    "\n",
    "The UCI power plant data is a common ML benchmarking dataset.\n",
    "Although [it is available on their website](https://archive.ics.uci.edu/ml/datasets/combined+cycle+power+plant) I am actually grabbing a cache of the data from github where a really good exploratory data analysis was done, found here: https://github.com/YungChunLu/UCI-Power-Plant. \n",
    "\n",
    "The file layout for the data is:\n",
    "```\n",
    "AT = Atmospheric Temperature in C\n",
    "V = Exhaust Vacuum Speed\n",
    "AP = Atmospheric Pressure\n",
    "RH = Relative Humidity\n",
    "PE = Power Output               # This is the Target variable for regression problems\n",
    "```\n",
    "\n",
    "Using the power plant morning variables, can we predict `PE`, the end of day power produced?"
   ]
  },
  {
   "cell_type": "code",
   "execution_count": 5,
   "metadata": {},
   "outputs": [
    {
     "data": {
      "text/html": [
       "<div>\n",
       "<style scoped>\n",
       "    .dataframe tbody tr th:only-of-type {\n",
       "        vertical-align: middle;\n",
       "    }\n",
       "\n",
       "    .dataframe tbody tr th {\n",
       "        vertical-align: top;\n",
       "    }\n",
       "\n",
       "    .dataframe thead th {\n",
       "        text-align: right;\n",
       "    }\n",
       "</style>\n",
       "<table border=\"1\" class=\"dataframe\">\n",
       "  <thead>\n",
       "    <tr style=\"text-align: right;\">\n",
       "      <th></th>\n",
       "      <th>AT</th>\n",
       "      <th>V</th>\n",
       "      <th>AP</th>\n",
       "      <th>RH</th>\n",
       "      <th>PE</th>\n",
       "    </tr>\n",
       "  </thead>\n",
       "  <tbody>\n",
       "    <tr>\n",
       "      <th>count</th>\n",
       "      <td>9568.000000</td>\n",
       "      <td>9568.000000</td>\n",
       "      <td>9568.000000</td>\n",
       "      <td>9568.000000</td>\n",
       "      <td>9568.000000</td>\n",
       "    </tr>\n",
       "    <tr>\n",
       "      <th>mean</th>\n",
       "      <td>19.651231</td>\n",
       "      <td>54.305804</td>\n",
       "      <td>1013.259078</td>\n",
       "      <td>73.308978</td>\n",
       "      <td>454.365009</td>\n",
       "    </tr>\n",
       "    <tr>\n",
       "      <th>std</th>\n",
       "      <td>7.452473</td>\n",
       "      <td>12.707893</td>\n",
       "      <td>5.938784</td>\n",
       "      <td>14.600269</td>\n",
       "      <td>17.066995</td>\n",
       "    </tr>\n",
       "    <tr>\n",
       "      <th>min</th>\n",
       "      <td>1.810000</td>\n",
       "      <td>25.360000</td>\n",
       "      <td>992.890000</td>\n",
       "      <td>25.560000</td>\n",
       "      <td>420.260000</td>\n",
       "    </tr>\n",
       "    <tr>\n",
       "      <th>25%</th>\n",
       "      <td>13.510000</td>\n",
       "      <td>41.740000</td>\n",
       "      <td>1009.100000</td>\n",
       "      <td>63.327500</td>\n",
       "      <td>439.750000</td>\n",
       "    </tr>\n",
       "    <tr>\n",
       "      <th>50%</th>\n",
       "      <td>20.345000</td>\n",
       "      <td>52.080000</td>\n",
       "      <td>1012.940000</td>\n",
       "      <td>74.975000</td>\n",
       "      <td>451.550000</td>\n",
       "    </tr>\n",
       "    <tr>\n",
       "      <th>75%</th>\n",
       "      <td>25.720000</td>\n",
       "      <td>66.540000</td>\n",
       "      <td>1017.260000</td>\n",
       "      <td>84.830000</td>\n",
       "      <td>468.430000</td>\n",
       "    </tr>\n",
       "    <tr>\n",
       "      <th>max</th>\n",
       "      <td>37.110000</td>\n",
       "      <td>81.560000</td>\n",
       "      <td>1033.300000</td>\n",
       "      <td>100.160000</td>\n",
       "      <td>495.760000</td>\n",
       "    </tr>\n",
       "  </tbody>\n",
       "</table>\n",
       "</div>"
      ],
      "text/plain": [
       "                AT            V           AP           RH           PE\n",
       "count  9568.000000  9568.000000  9568.000000  9568.000000  9568.000000\n",
       "mean     19.651231    54.305804  1013.259078    73.308978   454.365009\n",
       "std       7.452473    12.707893     5.938784    14.600269    17.066995\n",
       "min       1.810000    25.360000   992.890000    25.560000   420.260000\n",
       "25%      13.510000    41.740000  1009.100000    63.327500   439.750000\n",
       "50%      20.345000    52.080000  1012.940000    74.975000   451.550000\n",
       "75%      25.720000    66.540000  1017.260000    84.830000   468.430000\n",
       "max      37.110000    81.560000  1033.300000   100.160000   495.760000"
      ]
     },
     "execution_count": 5,
     "metadata": {},
     "output_type": "execute_result"
    }
   ],
   "source": [
    "PowerPlantData.describe()"
   ]
  },
  {
   "cell_type": "markdown",
   "metadata": {},
   "source": [
    "## Split my data into Train and Test chunks, 20/80"
   ]
  },
  {
   "cell_type": "code",
   "execution_count": 6,
   "metadata": {},
   "outputs": [],
   "source": [
    "msk = np.random.rand(len(PowerPlantData)) < 0.8\n",
    "train = PowerPlantData[msk]\n",
    "holdout = PowerPlantData[~msk]"
   ]
  },
  {
   "cell_type": "code",
   "execution_count": 7,
   "metadata": {},
   "outputs": [
    {
     "data": {
      "text/html": [
       "<div>\n",
       "<style scoped>\n",
       "    .dataframe tbody tr th:only-of-type {\n",
       "        vertical-align: middle;\n",
       "    }\n",
       "\n",
       "    .dataframe tbody tr th {\n",
       "        vertical-align: top;\n",
       "    }\n",
       "\n",
       "    .dataframe thead th {\n",
       "        text-align: right;\n",
       "    }\n",
       "</style>\n",
       "<table border=\"1\" class=\"dataframe\">\n",
       "  <thead>\n",
       "    <tr style=\"text-align: right;\">\n",
       "      <th></th>\n",
       "      <th>AT</th>\n",
       "      <th>V</th>\n",
       "      <th>AP</th>\n",
       "      <th>RH</th>\n",
       "      <th>PE</th>\n",
       "    </tr>\n",
       "  </thead>\n",
       "  <tbody>\n",
       "    <tr>\n",
       "      <th>count</th>\n",
       "      <td>1865.000000</td>\n",
       "      <td>1865.000000</td>\n",
       "      <td>1865.000000</td>\n",
       "      <td>1865.000000</td>\n",
       "      <td>1865.000000</td>\n",
       "    </tr>\n",
       "    <tr>\n",
       "      <th>mean</th>\n",
       "      <td>19.616097</td>\n",
       "      <td>54.356172</td>\n",
       "      <td>1013.299260</td>\n",
       "      <td>73.505078</td>\n",
       "      <td>454.396038</td>\n",
       "    </tr>\n",
       "    <tr>\n",
       "      <th>std</th>\n",
       "      <td>7.465892</td>\n",
       "      <td>12.826614</td>\n",
       "      <td>5.817991</td>\n",
       "      <td>14.565070</td>\n",
       "      <td>17.116266</td>\n",
       "    </tr>\n",
       "    <tr>\n",
       "      <th>min</th>\n",
       "      <td>2.800000</td>\n",
       "      <td>25.360000</td>\n",
       "      <td>995.020000</td>\n",
       "      <td>31.290000</td>\n",
       "      <td>421.570000</td>\n",
       "    </tr>\n",
       "    <tr>\n",
       "      <th>25%</th>\n",
       "      <td>13.410000</td>\n",
       "      <td>41.760000</td>\n",
       "      <td>1009.290000</td>\n",
       "      <td>63.290000</td>\n",
       "      <td>439.920000</td>\n",
       "    </tr>\n",
       "    <tr>\n",
       "      <th>50%</th>\n",
       "      <td>20.510000</td>\n",
       "      <td>52.050000</td>\n",
       "      <td>1012.920000</td>\n",
       "      <td>75.140000</td>\n",
       "      <td>451.750000</td>\n",
       "    </tr>\n",
       "    <tr>\n",
       "      <th>75%</th>\n",
       "      <td>25.680000</td>\n",
       "      <td>67.070000</td>\n",
       "      <td>1017.070000</td>\n",
       "      <td>85.080000</td>\n",
       "      <td>469.100000</td>\n",
       "    </tr>\n",
       "    <tr>\n",
       "      <th>max</th>\n",
       "      <td>35.100000</td>\n",
       "      <td>80.180000</td>\n",
       "      <td>1033.250000</td>\n",
       "      <td>100.130000</td>\n",
       "      <td>495.210000</td>\n",
       "    </tr>\n",
       "  </tbody>\n",
       "</table>\n",
       "</div>"
      ],
      "text/plain": [
       "                AT            V           AP           RH           PE\n",
       "count  1865.000000  1865.000000  1865.000000  1865.000000  1865.000000\n",
       "mean     19.616097    54.356172  1013.299260    73.505078   454.396038\n",
       "std       7.465892    12.826614     5.817991    14.565070    17.116266\n",
       "min       2.800000    25.360000   995.020000    31.290000   421.570000\n",
       "25%      13.410000    41.760000  1009.290000    63.290000   439.920000\n",
       "50%      20.510000    52.050000  1012.920000    75.140000   451.750000\n",
       "75%      25.680000    67.070000  1017.070000    85.080000   469.100000\n",
       "max      35.100000    80.180000  1033.250000   100.130000   495.210000"
      ]
     },
     "execution_count": 7,
     "metadata": {},
     "output_type": "execute_result"
    }
   ],
   "source": [
    "# check the number of records we'll validate our MSE with\n",
    "holdout.describe()"
   ]
  },
  {
   "cell_type": "code",
   "execution_count": 8,
   "metadata": {},
   "outputs": [
    {
     "data": {
      "text/html": [
       "<div>\n",
       "<style scoped>\n",
       "    .dataframe tbody tr th:only-of-type {\n",
       "        vertical-align: middle;\n",
       "    }\n",
       "\n",
       "    .dataframe tbody tr th {\n",
       "        vertical-align: top;\n",
       "    }\n",
       "\n",
       "    .dataframe thead th {\n",
       "        text-align: right;\n",
       "    }\n",
       "</style>\n",
       "<table border=\"1\" class=\"dataframe\">\n",
       "  <thead>\n",
       "    <tr style=\"text-align: right;\">\n",
       "      <th></th>\n",
       "      <th>AT</th>\n",
       "      <th>V</th>\n",
       "      <th>AP</th>\n",
       "      <th>RH</th>\n",
       "      <th>PE</th>\n",
       "    </tr>\n",
       "  </thead>\n",
       "  <tbody>\n",
       "    <tr>\n",
       "      <th>count</th>\n",
       "      <td>7703.000000</td>\n",
       "      <td>7703.000000</td>\n",
       "      <td>7703.000000</td>\n",
       "      <td>7703.000000</td>\n",
       "      <td>7703.000000</td>\n",
       "    </tr>\n",
       "    <tr>\n",
       "      <th>mean</th>\n",
       "      <td>19.659738</td>\n",
       "      <td>54.293609</td>\n",
       "      <td>1013.249350</td>\n",
       "      <td>73.261499</td>\n",
       "      <td>454.357497</td>\n",
       "    </tr>\n",
       "    <tr>\n",
       "      <th>std</th>\n",
       "      <td>7.449681</td>\n",
       "      <td>12.679790</td>\n",
       "      <td>5.967993</td>\n",
       "      <td>14.609326</td>\n",
       "      <td>17.056150</td>\n",
       "    </tr>\n",
       "    <tr>\n",
       "      <th>min</th>\n",
       "      <td>1.810000</td>\n",
       "      <td>25.360000</td>\n",
       "      <td>992.890000</td>\n",
       "      <td>25.560000</td>\n",
       "      <td>420.260000</td>\n",
       "    </tr>\n",
       "    <tr>\n",
       "      <th>25%</th>\n",
       "      <td>13.535000</td>\n",
       "      <td>41.685000</td>\n",
       "      <td>1009.050000</td>\n",
       "      <td>63.340000</td>\n",
       "      <td>439.720000</td>\n",
       "    </tr>\n",
       "    <tr>\n",
       "      <th>50%</th>\n",
       "      <td>20.320000</td>\n",
       "      <td>52.080000</td>\n",
       "      <td>1012.950000</td>\n",
       "      <td>74.910000</td>\n",
       "      <td>451.500000</td>\n",
       "    </tr>\n",
       "    <tr>\n",
       "      <th>75%</th>\n",
       "      <td>25.720000</td>\n",
       "      <td>66.500000</td>\n",
       "      <td>1017.290000</td>\n",
       "      <td>84.750000</td>\n",
       "      <td>468.275000</td>\n",
       "    </tr>\n",
       "    <tr>\n",
       "      <th>max</th>\n",
       "      <td>37.110000</td>\n",
       "      <td>81.560000</td>\n",
       "      <td>1033.300000</td>\n",
       "      <td>100.160000</td>\n",
       "      <td>495.760000</td>\n",
       "    </tr>\n",
       "  </tbody>\n",
       "</table>\n",
       "</div>"
      ],
      "text/plain": [
       "                AT            V           AP           RH           PE\n",
       "count  7703.000000  7703.000000  7703.000000  7703.000000  7703.000000\n",
       "mean     19.659738    54.293609  1013.249350    73.261499   454.357497\n",
       "std       7.449681    12.679790     5.967993    14.609326    17.056150\n",
       "min       1.810000    25.360000   992.890000    25.560000   420.260000\n",
       "25%      13.535000    41.685000  1009.050000    63.340000   439.720000\n",
       "50%      20.320000    52.080000  1012.950000    74.910000   451.500000\n",
       "75%      25.720000    66.500000  1017.290000    84.750000   468.275000\n",
       "max      37.110000    81.560000  1033.300000   100.160000   495.760000"
      ]
     },
     "execution_count": 8,
     "metadata": {},
     "output_type": "execute_result"
    }
   ],
   "source": [
    "# check the number of records we'll train our algorithm with\n",
    "train.describe()"
   ]
  },
  {
   "cell_type": "code",
   "execution_count": 9,
   "metadata": {},
   "outputs": [
    {
     "name": "stdout",
     "output_type": "stream",
     "text": [
      "[ 8.34 23.64 29.74 ... 33.41 15.99 17.65]\n",
      "[40.77 58.49 56.9  ... 77.95 43.34 59.87]\n",
      "[1010.84 1011.4  1007.15 ... 1010.3  1014.2  1018.58]\n",
      "[90.01 74.2  41.91 ... 59.72 78.66 94.65]\n",
      "[480.48 445.75 438.76 ... 432.9  465.96 450.93]\n"
     ]
    }
   ],
   "source": [
    "# copy and convert our pandas dataframe into numpy variables.\n",
    "# I will leave the target at Y, as I can't see where to set that in the code, but it's in there somehow!\n",
    "\n",
    "# NOTE: I'm only feeding in the TRAIN values to the algorithms. Later I will independely check\n",
    "# the MSE myself using a holdout test dataset\n",
    "\n",
    "AT = train.AT.values\n",
    "V  = train.V.values\n",
    "AP = train.AP.values\n",
    "RH = train.RH.values\n",
    "\n",
    "Y = train.PE.values  # this is our target, now mapped to Y\n",
    "\n",
    "print(AT)\n",
    "print(V)\n",
    "print(AP)\n",
    "print(RH)\n",
    "print(Y)"
   ]
  },
  {
   "cell_type": "markdown",
   "metadata": {},
   "source": [
    "# Creating the primitives set\n",
    "The first step in GEP (or GP as well) is to specify the primitive set, which contains the elementary building blocks to formulate the model. For this problem, we have:\n",
    "+ function set: the standard arithmetic operators addition (+), subtraction (-), multiplication (*), and division (/).\n",
    "+ terminal set: only the single input 'x' and random numerical constants (RNC).\n",
    "\n",
    "NOTE:\n",
    "\n",
    "- We define a *protected division* to avoid dividing by zero.\n",
    "- Even there may be multiple RNCs in the model, we only need to call `PrimitiveSet.add_rnc` once."
   ]
  },
  {
   "cell_type": "code",
   "execution_count": 10,
   "metadata": {},
   "outputs": [],
   "source": [
    "def protected_div(x1, x2):\n",
    "    if abs(x2) < 1e-6:\n",
    "        return 1\n",
    "    return x1 / x2"
   ]
  },
  {
   "cell_type": "markdown",
   "metadata": {},
   "source": [
    "# Map our input data to the GEP variables\n",
    "Here we map the input data to the GEP algorithm:\n",
    "\n",
    "We do that by listing the field names as \"input_names\".\n",
    "\n",
    "In reviewing geppy code, in the file:  \n",
    "  geppy/geppy/core/symbol.py\n",
    "  \n",
    "we find how terminals in the gene are named correctly to match input data.\n",
    "\n",
    "Oh - notice, I only mapped in below the input data columes, and not the TARGET \"PE\" which is sitting in var Y.\n",
    "I didn't notice where to map that - so suggest you force the target variable to \"Y\" when reading in data."
   ]
  },
  {
   "cell_type": "code",
   "execution_count": 11,
   "metadata": {},
   "outputs": [],
   "source": [
    "pset = gep.PrimitiveSet('Main', input_names=['AT','V','AP','RH'])"
   ]
  },
  {
   "cell_type": "markdown",
   "metadata": {},
   "source": [
    "# Define the operators\n",
    "Here we define and pass the operators we'll construct our final symbolic regression function with"
   ]
  },
  {
   "cell_type": "code",
   "execution_count": 12,
   "metadata": {},
   "outputs": [],
   "source": [
    "pset.add_function(operator.add, 2)\n",
    "pset.add_function(operator.sub, 2)\n",
    "pset.add_function(operator.mul, 2)\n",
    "pset.add_function(protected_div, 2)\n",
    "pset.add_function(math.sin, 1)        # I tested adding my own functions\n",
    "pset.add_function(math.cos, 1)\n",
    "pset.add_function(math.tan, 1)\n",
    "pset.add_rnc_terminal()"
   ]
  },
  {
   "cell_type": "markdown",
   "metadata": {},
   "source": [
    "# Create the individual and population\n",
    "Our objective is to **minimize** the MSE (mean squared error) for data fitting.\n",
    "## Define the indiviudal class, a subclass of *gep.Chromosome*"
   ]
  },
  {
   "cell_type": "code",
   "execution_count": 13,
   "metadata": {},
   "outputs": [],
   "source": [
    "from deap import creator, base, tools\n",
    "\n",
    "creator.create(\"FitnessMin\", base.Fitness, weights=(-1,))  # to minimize the objective (fitness)\n",
    "creator.create(\"Individual\", gep.Chromosome, fitness=creator.FitnessMin)"
   ]
  },
  {
   "cell_type": "markdown",
   "metadata": {},
   "source": [
    "## Register the individual and population creation operations\n",
    "In DEAP, it is recommended to register the operations used in evolution into a *toolbox* to make full use of DEAP functionality. The configuration of individuals in this problem is:\n",
    "+ head length: 6\n",
    "+ number of genes in each chromosome: 2\n",
    "+ RNC array length: 8\n",
    "\n",
    "Generally, more complicated problems require a larger head length and longer chromosomes formed with more genes. **The most important is that we should use the `GeneDc` class for genes to make use of the GEP-RNC algorithm.**"
   ]
  },
  {
   "cell_type": "markdown",
   "metadata": {},
   "source": [
    "# Your Core Settings Defined Here"
   ]
  },
  {
   "cell_type": "code",
   "execution_count": 14,
   "metadata": {},
   "outputs": [],
   "source": [
    "h = 7          # head length\n",
    "n_genes = 2    # number of genes in a chromosome\n",
    "r = 10         # length of the RNC array\n",
    "enable_ls = True # whether to apply the linear scaling technique"
   ]
  },
  {
   "cell_type": "markdown",
   "metadata": {},
   "source": [
    "**NOTE** Above you define the gene structure which sets out the maximum complexity of the symbolic regression"
   ]
  },
  {
   "cell_type": "code",
   "execution_count": 15,
   "metadata": {},
   "outputs": [],
   "source": [
    "toolbox = gep.Toolbox()\n",
    "toolbox.register('rnc_gen', random.randint, a=-10, b=10)   # each RNC is random integer within [-5, 5]\n",
    "toolbox.register('gene_gen', gep.GeneDc, pset=pset, head_length=h, rnc_gen=toolbox.rnc_gen, rnc_array_length=r)\n",
    "toolbox.register('individual', creator.Individual, gene_gen=toolbox.gene_gen, n_genes=n_genes, linker=operator.add)\n",
    "toolbox.register(\"population\", tools.initRepeat, list, toolbox.individual)\n",
    "\n",
    "# compile utility: which translates an individual into an executable function (Lambda)\n",
    "toolbox.register('compile', gep.compile_, pset=pset)"
   ]
  },
  {
   "cell_type": "markdown",
   "metadata": {},
   "source": [
    "# Define the fitness evaluation function\n",
    "In DEAP, the single objective optimization problem is just a special case of more general multiobjective ones. Since *geppy* is built on top of DEAP, it conforms to this convention. **Even if the fitness only contains one measure, keep in mind that DEAP stores it as an iterable.** \n",
    "\n",
    "Knowing that, you can understand why the evaluation function must return a tuple value (even if it is a 1-tuple). That's also why we set ``weights=(-1,)`` when creating the ``FitnessMax`` class."
   ]
  },
  {
   "cell_type": "code",
   "execution_count": 16,
   "metadata": {},
   "outputs": [],
   "source": [
    "# as a test I'm going to try and accelerate the fitness function\n",
    "from numba import jit\n",
    "\n",
    "@jit\n",
    "def evaluate(individual):\n",
    "    \"\"\"Evalute the fitness of an individual: MAE (mean absolute error)\"\"\"\n",
    "    func = toolbox.compile(individual)\n",
    "    \n",
    "    # below call the individual as a function over the inputs\n",
    "    \n",
    "    # Yp = np.array(list(map(func, X)))\n",
    "    Yp = np.array(list(map(func, AT, V, AP, RH))) \n",
    "    \n",
    "    # return the MSE as we are evaluating on it anyway - then the stats are more fun to watch...\n",
    "    return np.mean((Y - Yp) ** 2),\n",
    "\n",
    "            "
   ]
  },
  {
   "cell_type": "markdown",
   "metadata": {},
   "source": [
    "### [optional] Enable the linear scaling technique. It is hard for GP to determine real constants, which are important in regression problems. Thus, we can (implicitly) ask GP to evolve the shape (form) of the model and we help GP to determine constans by applying the simple least squares method (LSM)."
   ]
  },
  {
   "cell_type": "code",
   "execution_count": 17,
   "metadata": {},
   "outputs": [],
   "source": [
    "from numba import jit\n",
    "\n",
    "@jit\n",
    "def evaluate_ls(individual):\n",
    "    \"\"\"\n",
    "    First apply linear scaling (ls) to the individual \n",
    "    and then evaluate its fitness: MSE (mean squared error)\n",
    "    \"\"\"\n",
    "    func = toolbox.compile(individual)\n",
    "    Yp = np.array(list(map(func, AT, V, AP, RH)))\n",
    "    \n",
    "    # special cases which cannot be handled by np.linalg.lstsq: (1) individual has only a terminal \n",
    "    #  (2) individual returns the same value for all test cases, like 'x - x + 10'. np.linalg.lstsq will fail in such cases.\n",
    "    # That is, the predicated value for all the examples remains identical, which may happen in the evolution.\n",
    "    if isinstance(Yp, np.ndarray):\n",
    "        Q = np.hstack((np.reshape(Yp, (-1, 1)), np.ones((len(Yp), 1))))\n",
    "        (individual.a, individual.b), residuals, _, _ = np.linalg.lstsq(Q, Y, rcond=None)   \n",
    "        # residuals is the sum of squared errors\n",
    "        if residuals.size > 0:\n",
    "            return residuals[0] / len(Y),   # MSE\n",
    "    \n",
    "    # regarding the above special cases, the optimal linear scaling w.r.t LSM is just the mean of true target values\n",
    "    individual.a = 0\n",
    "    individual.b = np.mean(Y)\n",
    "    return np.mean((Y - individual.b) ** 2),"
   ]
  },
  {
   "cell_type": "code",
   "execution_count": 18,
   "metadata": {},
   "outputs": [],
   "source": [
    "if enable_ls:\n",
    "    toolbox.register('evaluate', evaluate_ls)\n",
    "else:\n",
    "    toolbox.register('evaluate', evaluate)"
   ]
  },
  {
   "cell_type": "markdown",
   "metadata": {},
   "source": [
    "# Register genetic operators\n",
    "Compared with GP and other genetic algorithms, GEP has its own set of genetic operators aside from common mutation and crossover. For details, please check the tutorial [Introduction to gene expression programming](https://geppy.readthedocs.io/en/latest/intro_GEP.html).\n",
    "\n",
    "In the following code, the selection operator is ``tools.selTournament`` provided by DEAP, while all other operators are specially designed for GEP in *geppy*."
   ]
  },
  {
   "cell_type": "code",
   "execution_count": 19,
   "metadata": {},
   "outputs": [],
   "source": [
    "toolbox.register('select', tools.selTournament, tournsize=3)\n",
    "# 1. general operators\n",
    "toolbox.register('mut_uniform', gep.mutate_uniform, pset=pset, ind_pb=0.05, pb=1)\n",
    "toolbox.register('mut_invert', gep.invert, pb=0.1)\n",
    "toolbox.register('mut_is_transpose', gep.is_transpose, pb=0.1)\n",
    "toolbox.register('mut_ris_transpose', gep.ris_transpose, pb=0.1)\n",
    "toolbox.register('mut_gene_transpose', gep.gene_transpose, pb=0.1)\n",
    "toolbox.register('cx_1p', gep.crossover_one_point, pb=0.3)\n",
    "toolbox.register('cx_2p', gep.crossover_two_point, pb=0.2)\n",
    "toolbox.register('cx_gene', gep.crossover_gene, pb=0.1)\n",
    "# 2. Dc-specific operators\n",
    "toolbox.register('mut_dc', gep.mutate_uniform_dc, ind_pb=0.05, pb=1)\n",
    "toolbox.register('mut_invert_dc', gep.invert_dc, pb=0.1)\n",
    "toolbox.register('mut_transpose_dc', gep.transpose_dc, pb=0.1)\n",
    "# for some uniform mutations, we can also assign the ind_pb a string to indicate our expected number of point mutations in an individual\n",
    "toolbox.register('mut_rnc_array_dc', gep.mutate_rnc_array_dc, rnc_gen=toolbox.rnc_gen, ind_pb='0.5p')\n",
    "toolbox.pbs['mut_rnc_array_dc'] = 1  # we can also give the probability via the pbs property"
   ]
  },
  {
   "cell_type": "markdown",
   "metadata": {},
   "source": [
    "# Statistics to be inspected\n",
    "We often need to monitor of progress of an evolutionary program. DEAP offers two classes to handle the boring work of recording statistics. Details are presented in [Computing statistics](http://deap.readthedocs.io/en/master/tutorials/basic/part3.html). In the following, we are intereted in the average/standard deviation/min/max of all the individuals' fitness in each generation."
   ]
  },
  {
   "cell_type": "code",
   "execution_count": 20,
   "metadata": {},
   "outputs": [],
   "source": [
    "stats = tools.Statistics(key=lambda ind: ind.fitness.values[0])\n",
    "stats.register(\"avg\", np.mean)\n",
    "stats.register(\"std\", np.std)\n",
    "stats.register(\"min\", np.min)\n",
    "stats.register(\"max\", np.max)"
   ]
  },
  {
   "cell_type": "markdown",
   "metadata": {},
   "source": [
    "# Launch evolution\n",
    "We make use of *geppy*'s builtin algorithm ``gep_rnc`` here to perform the GEP-RNC evolution. A special class from DEAP, `HallOfFame`, is adopted to store the best individuals ever found. Besides, it should be noted that in GEP [*elitism*](https://en.wikipedia.org/wiki/Genetic_algorithm#Elitism) is highly recommended because some genetic operators in GEP are destructive and may destroy the best individual we have evolved."
   ]
  },
  {
   "cell_type": "code",
   "execution_count": 21,
   "metadata": {},
   "outputs": [],
   "source": [
    "# size of population and number of generations\n",
    "n_pop = 120\n",
    "n_gen = 50\n",
    "\n",
    "#100 3000\n",
    "\n",
    "champs = 3\n",
    "\n",
    "pop = toolbox.population(n=n_pop) # \n",
    "hof = tools.HallOfFame(champs)   # only record the best three individuals ever found in all generations\n"
   ]
  },
  {
   "cell_type": "code",
   "execution_count": 22,
   "metadata": {},
   "outputs": [
    {
     "name": "stdout",
     "output_type": "stream",
     "text": [
      "2019-01-13 17:33:24.085729\n"
     ]
    }
   ],
   "source": [
    "startDT = datetime.datetime.now()\n",
    "print (str(startDT))"
   ]
  },
  {
   "cell_type": "code",
   "execution_count": 23,
   "metadata": {
    "scrolled": false
   },
   "outputs": [
    {
     "name": "stdout",
     "output_type": "stream",
     "text": [
      "gen\tnevals\tavg   \tstd    \tmin   \tmax    \n",
      "0  \t120   \t202.79\t90.0092\t29.911\t290.874\n",
      "1  \t119   \t137.12\t86.8186\t29.911\t290.874\n",
      "2  \t119   \t104.074\t82.6304\t24.4579\t290.869\n",
      "3  \t119   \t90.7691\t80.877 \t24.4579\t290.874\n",
      "4  \t119   \t92.2778\t89.2681\t24.4579\t290.864\n",
      "5  \t119   \t78.739 \t85.2832\t24.4579\t290.871\n",
      "6  \t119   \t75.2133\t88.3999\t23.5502\t290.874\n",
      "7  \t119   \t67.9808\t80.9986\t23.5502\t290.874\n",
      "8  \t119   \t65.8384\t81.9374\t23.5502\t290.874\n",
      "9  \t119   \t59.555 \t68.9703\t23.5502\t290.874\n",
      "10 \t119   \t62.0769\t73.8073\t23.5502\t290.85 \n",
      "11 \t119   \t68.1913\t79.1844\t23.5502\t290.871\n",
      "12 \t119   \t68.3879\t76.7519\t23.5502\t290.874\n",
      "13 \t119   \t69.1178\t79.0989\t22.6364\t290.874\n",
      "14 \t119   \t65.9224\t78.9599\t22.6364\t290.874\n",
      "15 \t119   \t73.561 \t80.6311\t22.6364\t289.995\n",
      "16 \t119   \t82.2486\t88.5066\t22.6364\t290.872\n",
      "17 \t119   \t77.4036\t81.5905\t21.8036\t290.873\n",
      "18 \t119   \t74.2037\t81.9474\t21.8036\t290.747\n",
      "19 \t119   \t83.9798\t94.368 \t21.4358\t290.874\n",
      "20 \t119   \t84.0245\t83.8785\t21.4358\t290.874\n",
      "21 \t119   \t73.5006\t77.5681\t21.4358\t290.866\n",
      "22 \t119   \t85.5549\t90.7455\t21.4358\t290.854\n",
      "23 \t119   \t89.3147\t91.9198\t21.4358\t290.871\n",
      "24 \t119   \t96.047 \t99.5372\t21.4358\t290.873\n",
      "25 \t119   \t72.3908\t79.779 \t21.4358\t290.874\n",
      "26 \t119   \t83.4718\t95.435 \t21.4358\t290.874\n",
      "27 \t119   \t61.0833\t72.995 \t21.4358\t290.839\n",
      "28 \t119   \t76.3145\t88.9706\t21.4358\t290.874\n",
      "29 \t119   \t72.6898\t85.0082\t21.4358\t290.872\n",
      "30 \t119   \t72.6779\t86.288 \t21.4358\t290.873\n",
      "31 \t119   \t72.7487\t85.3693\t21.4358\t290.858\n",
      "32 \t119   \t83.5854\t93.1867\t21.4358\t290.872\n",
      "33 \t119   \t69.7236\t81.1232\t21.4358\t290.874\n",
      "34 \t119   \t83.5888\t94.0737\t21.3086\t290.874\n",
      "35 \t119   \t81.6123\t93.5099\t21.3086\t290.874\n",
      "36 \t119   \t77.024 \t89.5219\t21.3086\t290.868\n",
      "37 \t119   \t98.1975\t100.438\t21.3086\t290.873\n",
      "38 \t119   \t76.3145\t87.995 \t21.3086\t290.874\n",
      "39 \t119   \t75.0002\t82.8363\t21.3086\t290.874\n",
      "40 \t119   \t63.6079\t74.9093\t21.3086\t290.871\n",
      "41 \t119   \t73.5114\t82.965 \t21.3086\t290.871\n",
      "42 \t119   \t84.4044\t90.9506\t21.3086\t290.874\n",
      "43 \t119   \t86.9965\t97.9925\t21.3086\t290.874\n",
      "44 \t119   \t73.3945\t87.8385\t21.3086\t290.863\n",
      "45 \t119   \t84.3023\t91.7157\t21.3086\t290.845\n",
      "46 \t119   \t52.0576\t59.5602\t21.3086\t288.436\n",
      "47 \t119   \t73.8061\t88.068 \t21.3086\t290.837\n",
      "48 \t119   \t79.0421\t96.3236\t21.3086\t290.869\n",
      "49 \t119   \t79.1006\t90.5122\t21.3086\t290.865\n",
      "50 \t119   \t80.7389\t93.4689\t21.3086\t290.865\n"
     ]
    }
   ],
   "source": [
    "# start evolution\n",
    "pop, log = gep.gep_simple(pop, toolbox, n_generations=n_gen, n_elites=1,\n",
    "                          stats=stats, hall_of_fame=hof, verbose=True)"
   ]
  },
  {
   "cell_type": "code",
   "execution_count": 24,
   "metadata": {},
   "outputs": [
    {
     "name": "stdout",
     "output_type": "stream",
     "text": [
      "Evolution times were:\n",
      "\n",
      "Started:\t 2019-01-13 17:33:24.085729 \n",
      "Ended:   \t 2019-01-13 17:36:10.853854\n"
     ]
    }
   ],
   "source": [
    "print (\"Evolution times were:\\n\\nStarted:\\t\", startDT, \"\\nEnded:   \\t\", str(datetime.datetime.now()))"
   ]
  },
  {
   "cell_type": "markdown",
   "metadata": {},
   "source": [
    "**Let's check the best individuals ever evolved.**"
   ]
  },
  {
   "cell_type": "code",
   "execution_count": 25,
   "metadata": {},
   "outputs": [
    {
     "name": "stdout",
     "output_type": "stream",
     "text": [
      "add(\n",
      "\tadd(add(RH, V), AT),\n",
      "\tmul(AT, 10)\n",
      ")\n"
     ]
    }
   ],
   "source": [
    "print(hof[0])"
   ]
  },
  {
   "cell_type": "markdown",
   "metadata": {},
   "source": [
    "# Present our Work and Conclusions\n",
    "\n",
    "## Symbolic simplification of the final solution\n",
    "The symbolic tree answer may contain many redundancies, for example, `protected_div(x, x)` is just 1. We can perform symbolic simplification of the final result by `geppy.simplify` which depends on `sympy` package. We can also leverage sympy to better present our work to others"
   ]
  },
  {
   "cell_type": "code",
   "execution_count": 26,
   "metadata": {},
   "outputs": [
    {
     "name": "stdout",
     "output_type": "stream",
     "text": [
      "\n",
      " \n",
      "Given training examples of\n",
      "\n",
      "    AT = Atmospheric Temperature (C)\n",
      "    V = Exhaust Vacuum Speed\n",
      "    AP = Atmospheric Pressure\n",
      "    RH = Relative Humidity\n",
      "\n",
      "we trained a computer using Genetic Algorithms to predict the \n",
      "\n",
      "    PE = Power Output\n",
      "\n",
      "Our symbolic regression process found the following equation offers our best prediction:\n",
      "\n",
      " \t -2.09595322092593*AT - 0.190541201902357*RH - 0.190541201902357*V + 519.867891432331 \n",
      "\n",
      "which formally is presented as:\n",
      "\n",
      "\n"
     ]
    },
    {
     "data": {
      "image/png": "[encoded data removed]",
      "text/latex": [
       "$$- 2.09595322092593 AT - 0.190541201902357 RH - 0.190541201902357 V + 519.867891432331$$"
      ],
      "text/plain": [
       "-2.09595322092593⋅AT - 0.190541201902357⋅RH - 0.190541201902357⋅V + 519.867891\n",
       "432331"
      ]
     },
     "execution_count": 26,
     "metadata": {},
     "output_type": "execute_result"
    }
   ],
   "source": [
    "# print the best symbolic regression we found:\n",
    "best_ind = hof[0]\n",
    "symplified_best = gep.simplify(best_ind)\n",
    "\n",
    "if enable_ls:\n",
    "    symplified_best = best_ind.a * symplified_best + best_ind.b\n",
    "\n",
    "key= '''\n",
    "Given training examples of\n",
    "\n",
    "    AT = Atmospheric Temperature (C)\n",
    "    V = Exhaust Vacuum Speed\n",
    "    AP = Atmospheric Pressure\n",
    "    RH = Relative Humidity\n",
    "\n",
    "we trained a computer using Genetic Algorithms to predict the \n",
    "\n",
    "    PE = Power Output\n",
    "\n",
    "Our symbolic regression process found the following equation offers our best prediction:\n",
    "\n",
    "'''\n",
    "\n",
    "print('\\n', key,'\\t', str(symplified_best), '\\n\\nwhich formally is presented as:\\n\\n')\n",
    "\n",
    "from sympy import *\n",
    "init_printing()\n",
    "symplified_best\n",
    "\n",
    "# use   str(symplified_best)   to get the string of the symplified model"
   ]
  },
  {
   "cell_type": "code",
   "execution_count": 27,
   "metadata": {},
   "outputs": [],
   "source": [
    "# output the top 3 champs\n",
    "#champs = 3\n",
    "#for i in range(champs):\n",
    "#    ind = hof[i]\n",
    "#    symplified_model = gep.simplify(ind)\n",
    "#\n",
    "#    print('\\nSymplified best individual {}: '.format(i))\n",
    "#    print(symplified_model)\n",
    "#    print(\"raw indivudal:\")\n",
    "#    print(hof[i])"
   ]
  },
  {
   "cell_type": "code",
   "execution_count": 28,
   "metadata": {},
   "outputs": [],
   "source": [
    " # we want to use symbol labels instead of words in the tree graph\n",
    "rename_labels = {'add': '+', 'sub': '-', 'mul': '*', 'protected_div': '/'}  \n",
    "gep.export_expression_tree(best_ind, rename_labels, 'data/numerical_expression_tree.png')"
   ]
  },
  {
   "cell_type": "markdown",
   "metadata": {},
   "source": [
    "As we can see from the above simplified expression, the *truth model* has been successfully found. Due to the existence of Gaussian noise, the minimum mean absolute error （MAE) is still not zero even the best individual represents the true model."
   ]
  },
  {
   "cell_type": "markdown",
   "metadata": {},
   "source": [
    "## Visualization\n",
    "If you are interested in the expression tree corresponding to the individual, i.e., the genotype/phenotype system, *geppy* supports tree visualization by the `graph` and the `export_expression_tree` functions:\n",
    "\n",
    "- `graph` only outputs the nodes and links information to describe the tree topology, with which you can render the tree with tools you like;\n",
    "- `export_expression_tree` implements tree visualization with data generated by `graph` internally using the `graphviz` package. \n",
    "\n",
    "**Note**: even if the linear scaling is applied, here only the raw individual in GP (i.e., the one without linear scaling) is visualized."
   ]
  },
  {
   "cell_type": "code",
   "execution_count": 29,
   "metadata": {},
   "outputs": [
    {
     "data": {
      "image/png": "[encoded data removed]",
      "text/plain": [
       "<IPython.core.display.Image object>"
      ]
     },
     "execution_count": 29,
     "metadata": {},
     "output_type": "execute_result"
    }
   ],
   "source": [
    " # show the above image here for convenience\n",
    "from IPython.display import Image\n",
    "Image(filename='data/numerical_expression_tree.png')"
   ]
  },
  {
   "cell_type": "markdown",
   "metadata": {},
   "source": [
    "# DoubleCheck our final Test Statistics\n",
    "Earlier, we split our data into train and test chunks.\n",
    "\n",
    "The GEPPY program never saw 20% of our data, so lets doublecheck the reported errors on our holdout test file are accurate:\n"
   ]
  },
  {
   "cell_type": "code",
   "execution_count": 30,
   "metadata": {},
   "outputs": [],
   "source": [
    "def CalculateBestModelOutput(AT, V, AP, RH, model):\n",
    "    # pass in a string view of the \"model\" as str(symplified_best)\n",
    "    # this string view of the equation may reference any of the other inputs, AT, V, AP, RH we registered\n",
    "    # we then use eval of this string to calculate the answer for these inputs\n",
    "    return eval(model) \n",
    "\n",
    "# some previous example outputs\n",
    "# (AT*(AP - 2*AT - V - 23) + 4*V)/(2*AT)       # MSE 23.5 is my best run.\n",
    "# AP/2 - AT - V/2 - 8.0 + RH/(2*AT)            # MSE 26 # also a very good run.\n",
    "\n",
    "# other results with worse performance on short/small runs were\n",
    "# (AP*(3*AT + 1) + AT*V*(AP + AT + 2*RH)/3)/(AT*V)\n",
    "# AP/2 - AT - V/2 - 6\n"
   ]
  },
  {
   "cell_type": "code",
   "execution_count": 31,
   "metadata": {
    "scrolled": true
   },
   "outputs": [
    {
     "data": {
      "text/html": [
       "<div>\n",
       "<style scoped>\n",
       "    .dataframe tbody tr th:only-of-type {\n",
       "        vertical-align: middle;\n",
       "    }\n",
       "\n",
       "    .dataframe tbody tr th {\n",
       "        vertical-align: top;\n",
       "    }\n",
       "\n",
       "    .dataframe thead th {\n",
       "        text-align: right;\n",
       "    }\n",
       "</style>\n",
       "<table border=\"1\" class=\"dataframe\">\n",
       "  <thead>\n",
       "    <tr style=\"text-align: right;\">\n",
       "      <th></th>\n",
       "      <th>AT</th>\n",
       "      <th>V</th>\n",
       "      <th>AP</th>\n",
       "      <th>RH</th>\n",
       "      <th>PE</th>\n",
       "    </tr>\n",
       "  </thead>\n",
       "  <tbody>\n",
       "    <tr>\n",
       "      <th>count</th>\n",
       "      <td>1865.000000</td>\n",
       "      <td>1865.000000</td>\n",
       "      <td>1865.000000</td>\n",
       "      <td>1865.000000</td>\n",
       "      <td>1865.000000</td>\n",
       "    </tr>\n",
       "    <tr>\n",
       "      <th>mean</th>\n",
       "      <td>19.616097</td>\n",
       "      <td>54.356172</td>\n",
       "      <td>1013.299260</td>\n",
       "      <td>73.505078</td>\n",
       "      <td>454.396038</td>\n",
       "    </tr>\n",
       "    <tr>\n",
       "      <th>std</th>\n",
       "      <td>7.465892</td>\n",
       "      <td>12.826614</td>\n",
       "      <td>5.817991</td>\n",
       "      <td>14.565070</td>\n",
       "      <td>17.116266</td>\n",
       "    </tr>\n",
       "    <tr>\n",
       "      <th>min</th>\n",
       "      <td>2.800000</td>\n",
       "      <td>25.360000</td>\n",
       "      <td>995.020000</td>\n",
       "      <td>31.290000</td>\n",
       "      <td>421.570000</td>\n",
       "    </tr>\n",
       "    <tr>\n",
       "      <th>25%</th>\n",
       "      <td>13.410000</td>\n",
       "      <td>41.760000</td>\n",
       "      <td>1009.290000</td>\n",
       "      <td>63.290000</td>\n",
       "      <td>439.920000</td>\n",
       "    </tr>\n",
       "    <tr>\n",
       "      <th>50%</th>\n",
       "      <td>20.510000</td>\n",
       "      <td>52.050000</td>\n",
       "      <td>1012.920000</td>\n",
       "      <td>75.140000</td>\n",
       "      <td>451.750000</td>\n",
       "    </tr>\n",
       "    <tr>\n",
       "      <th>75%</th>\n",
       "      <td>25.680000</td>\n",
       "      <td>67.070000</td>\n",
       "      <td>1017.070000</td>\n",
       "      <td>85.080000</td>\n",
       "      <td>469.100000</td>\n",
       "    </tr>\n",
       "    <tr>\n",
       "      <th>max</th>\n",
       "      <td>35.100000</td>\n",
       "      <td>80.180000</td>\n",
       "      <td>1033.250000</td>\n",
       "      <td>100.130000</td>\n",
       "      <td>495.210000</td>\n",
       "    </tr>\n",
       "  </tbody>\n",
       "</table>\n",
       "</div>"
      ],
      "text/plain": [
       "                AT            V           AP           RH           PE\n",
       "count  1865.000000  1865.000000  1865.000000  1865.000000  1865.000000\n",
       "mean     19.616097    54.356172  1013.299260    73.505078   454.396038\n",
       "std       7.465892    12.826614     5.817991    14.565070    17.116266\n",
       "min       2.800000    25.360000   995.020000    31.290000   421.570000\n",
       "25%      13.410000    41.760000  1009.290000    63.290000   439.920000\n",
       "50%      20.510000    52.050000  1012.920000    75.140000   451.750000\n",
       "75%      25.680000    67.070000  1017.070000    85.080000   469.100000\n",
       "max      35.100000    80.180000  1033.250000   100.130000   495.210000"
      ]
     },
     "execution_count": 31,
     "metadata": {},
     "output_type": "execute_result"
    }
   ],
   "source": [
    "holdout.describe()"
   ]
  },
  {
   "cell_type": "code",
   "execution_count": 32,
   "metadata": {},
   "outputs": [],
   "source": [
    "predPE = CalculateBestModelOutput(holdout.AT, holdout.V, holdout.AP, holdout.RH, str(symplified_best))"
   ]
  },
  {
   "cell_type": "code",
   "execution_count": 33,
   "metadata": {},
   "outputs": [
    {
     "data": {
      "text/plain": [
       "count    1865.000000\n",
       "mean      454.390635\n",
       "std        16.499026\n",
       "min       422.165985\n",
       "25%       440.395062\n",
       "50%       451.922804\n",
       "75%       468.717106\n",
       "max       490.757007\n",
       "dtype: float64"
      ]
     },
     "execution_count": 33,
     "metadata": {},
     "output_type": "execute_result"
    }
   ],
   "source": [
    "predPE.describe()"
   ]
  },
  {
   "cell_type": "code",
   "execution_count": 34,
   "metadata": {},
   "outputs": [
    {
     "data": {
      "text/plain": [
       "7     466.642112\n",
       "8     434.107202\n",
       "13    480.357268\n",
       "17    470.887370\n",
       "19    455.447816\n",
       "dtype: float64"
      ]
     },
     "execution_count": 34,
     "metadata": {},
     "output_type": "execute_result"
    }
   ],
   "source": [
    "predPE.head()"
   ]
  },
  {
   "cell_type": "markdown",
   "metadata": {},
   "source": [
    "## Validation MSE:"
   ]
  },
  {
   "cell_type": "code",
   "execution_count": 35,
   "metadata": {},
   "outputs": [
    {
     "name": "stdout",
     "output_type": "stream",
     "text": [
      "Mean squared error: 19.58\n",
      "R2 score : 0.93\n"
     ]
    }
   ],
   "source": [
    "from sklearn.metrics import mean_squared_error, r2_score\n",
    "print(\"Mean squared error: %.2f\" % mean_squared_error(holdout.PE, predPE))\n",
    "print(\"R2 score : %.2f\" % r2_score(holdout.PE, predPE))"
   ]
  },
  {
   "cell_type": "markdown",
   "metadata": {},
   "source": [
    "### Let's eyeball predicted vs actual data:"
   ]
  },
  {
   "cell_type": "code",
   "execution_count": 36,
   "metadata": {},
   "outputs": [
    {
     "data": {
      "text/plain": [
       "<Figure size 2000x500 with 1 Axes>"
      ]
     },
     "metadata": {},
     "output_type": "display_data"
    }
   ],
   "source": [
    "from matplotlib import pyplot\n",
    "pyplot.rcParams['figure.figsize'] = [20, 5]\n",
    "plotlen=200\n",
    "pyplot.plot(predPE.head(plotlen))       # predictions are in blue\n",
    "pyplot.plot(holdout.PE.head(plotlen-2)) # actual values are in orange\n",
    "pyplot.show()\n"
   ]
  },
  {
   "cell_type": "markdown",
   "metadata": {},
   "source": [
    "### Histogram of prediction Errors on the holdout dataset:"
   ]
  },
  {
   "cell_type": "code",
   "execution_count": 37,
   "metadata": {},
   "outputs": [
    {
     "data": {
      "image/png": "[encoded data removed]",
      "text/plain": [
       "<Figure size 720x360 with 1 Axes>"
      ]
     },
     "metadata": {
      "needs_background": "light"
     },
     "output_type": "display_data"
    }
   ],
   "source": [
    "pyplot.rcParams['figure.figsize'] = [10, 5]\n",
    "hfig = pyplot.figure()\n",
    "ax = hfig.add_subplot(111)\n",
    "\n",
    "numBins = 100\n",
    "#ax.hist(holdout.PE.head(plotlen)-predPE.head(plotlen),numBins,color='green',alpha=0.8)\n",
    "ax.hist(holdout.PE-predPE,numBins,color='green',alpha=0.8)\n",
    "pyplot.show()"
   ]
  },
  {
   "cell_type": "markdown",
   "metadata": {},
   "source": [
    "### Is it worth implementing the answer?\n",
    "Deploying ML solutions to production can often be expensive. Doing nothing is invariably the alternative to a spending money delivering ML produced models into production. It implies a \"business case\" question we should answer when we conclude the study:\n",
    "If the business people selling the power plant outputs resorted to a common impulse to use the \"average output\" of the plant over the time period to be the \"estimate\" of plant output - what would this very low cost alternative look like? How would using Machine Learning improve the business over and above what they would see as the cheapest strategy?\n",
    "#### how bad is the simple estimate, versus our found solution?\n",
    "Let's examine the histogram of errors of the alternative \"do nothing\" approach to estimation.\n",
    "\n",
    "### Simple averages are not great\n",
    "The simple average approach gives us a plus/minus 40 on the value, which is not bell curve shaped, meaning the business will feel the estimates are generally poor most of the time.\n",
    "In contrast, our symbolic regression gives us a nice bell curve shaped estimate, that is plus/minus 14 on a particularly bad day, and otherwise plus/minus 8 ... so a far far better estimate.\n",
    "\n"
   ]
  },
  {
   "cell_type": "code",
   "execution_count": 38,
   "metadata": {
    "scrolled": true
   },
   "outputs": [
    {
     "data": {
      "image/png": "[encoded data removed]",
      "text/plain": [
       "<Figure size 720x360 with 1 Axes>"
      ]
     },
     "metadata": {
      "needs_background": "light"
     },
     "output_type": "display_data"
    }
   ],
   "source": [
    "hfig2 = pyplot.figure()\n",
    "ax = hfig2.add_subplot(111)\n",
    "\n",
    "numBins = 100\n",
    "ax.hist(holdout.PE-holdout.PE.mean(),numBins,color='green',alpha=0.8)\n",
    "pyplot.show()"
   ]
  },
  {
   "cell_type": "markdown",
   "metadata": {},
   "source": [
    "# Business Value\n",
    "Let's compare the cheapest solution (using average value) against our solution, having roughtly similar cost"
   ]
  },
  {
   "cell_type": "code",
   "execution_count": 39,
   "metadata": {},
   "outputs": [
    {
     "data": {
      "image/png": "[encoded data removed]",
      "text/plain": [
       "<Figure size 720x360 with 1 Axes>"
      ]
     },
     "metadata": {
      "needs_background": "light"
     },
     "output_type": "display_data"
    }
   ],
   "source": [
    "hfig3 = pyplot.figure()\n",
    "ax = hfig3.add_subplot(111)\n",
    "\n",
    "numBins = 100\n",
    "ax.hist(holdout.PE-holdout.PE.mean(),numBins,color='green',alpha=0.8)\n",
    "ax.hist(holdout.PE-predPE,numBins,color='orange',alpha=0.8)\n",
    "pyplot.show()"
   ]
  },
  {
   "cell_type": "markdown",
   "metadata": {},
   "source": [
    "### Next Steps: Implementation\n",
    "The implementation cost of getting our symbolic regression based estimator into production is very very low as a general rule of thumb. \n",
    "\n",
    "This is because the regression equation can be quickly re-written into any target system or programming language imaginable very quickly. The complete model portability of the equations produced are a huge benefit of the method.\n",
    "\n",
    "In the power plant for example, they could simply add this equation into the spreadsheet where they are maintaining the raw data to get this benefit. "
   ]
  },
  {
   "cell_type": "markdown",
   "metadata": {},
   "source": [
    "### Footnotes:"
   ]
  },
  {
   "cell_type": "markdown",
   "metadata": {},
   "source": [
    "License: **MIT**\n",
    "\n",
    "Update: **Jan 6th, 2019**\n",
    "\n",
    "Author: ** Andrew Morgan**\n",
    "\n",
    "About the Author:\n",
    "\n",
    "Andrew is a big data engineer and data scientist. He currently works as a director in the ACIA (Aon Centre of Innovation and Analytics) where he is is the Head of Data Services, based in Dublin, Krakow, and London. He is also the author of **Mastering Spark for Data Science**) found here https://www.amazon.co.uk/Mastering-Spark-Science-Andrew-Morgan/dp/1785882147 and is the owner of ByteSumo, a big data science consultancy.\n"
   ]
  },
  {
   "cell_type": "code",
   "execution_count": null,
   "metadata": {},
   "outputs": [],
   "source": []
  }
 ],
 "metadata": {
  "kernelspec": {
   "display_name": "Python 3",
   "language": "python",
   "name": "python3"
  },
  "language_info": {
   "codemirror_mode": {
    "name": "ipython",
    "version": 3
   },
   "file_extension": ".py",
   "mimetype": "text/x-python",
   "name": "python",
   "nbconvert_exporter": "python",
   "pygments_lexer": "ipython3",
   "version": "3.7.1"
  }
 },
 "nbformat": 4,
 "nbformat_minor": 2
}
