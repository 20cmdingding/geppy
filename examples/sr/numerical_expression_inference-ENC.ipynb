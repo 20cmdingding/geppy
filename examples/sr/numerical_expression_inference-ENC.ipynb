{
 "cells": [
  {
   "cell_type": "markdown",
   "metadata": {},
   "source": [
    "# Numerical expression inference problem: numerical constant finding with ephemeral numerical constant (ENC)\n",
    "In this example, we aim to identify a mathematicalfunction $f$ from the given input-ouput data such that the function $f$ can produce the expected ouput given a certain input. This is a typical [symbolic regression](https://en.wikipedia.org/wiki/Symbolic_regression) problem:\n",
    "\n",
    "> Symbolic regression is a type of regression analysis that searches the space of mathematical expressions to find the model that best fits a given dataset, both in terms of accuracy and simplicity.\n",
    "\n",
    "which is most commonly solved with genetic programming and its variant, gene expression programming (GEP), presented here. \n",
    "\n",
    "Before continuing this example, you'd better first go through the two fundamental tutorials listed below to get familiar with GEP and *geppy*:\n",
    "+ [Introduction to gene expression programming](https://geppy.readthedocs.io/en/latest/intro_GEP.html)\n",
    "+ [Overview of geppy for Gene Expression Programming (GEP)](https://geppy.readthedocs.io/en/latest/overview.html)\n",
    "\n",
    "The main difference of this problem w.r.t the [Boolean function identification](Boolean_function_identification.ipynb) problem is that generally a mathematical model involves constant coefficients, which is more challenging for both genetic programming (GP) and GEP. The standard way to handle numerical constants in GP is to use ephemeral numerical constants (ENCs), whose value are initialized randomly and can be updated during the evolution process. Though experimental results show that the GEP-RNC algorithm is more efficient than using ENCs, it is still supported by *geppy* and can do the work for simple problems, like models which only involve integer constants. To learn about the GEP-RNC algorithm recommended for numerical constant finding in GEP, please check the example [GEP-RNC for numerical expression inference](./numerical_expression_inference.ipynb).\n",
    "\n",
    "The key to adopt ENCs in *geppy* is:\n",
    "+ add one or more ephemerals with `PrimitiveSet.add_ephemeral` (usually one is enough)\n",
    "+ [optional] update the ephemerals during evolution by the `mutate_uniform_ephemeral` operator."
   ]
  },
  {
   "cell_type": "code",
   "execution_count": 1,
   "metadata": {},
   "outputs": [],
   "source": [
    "import geppy as gep\n",
    "from deap import creator, base, tools\n",
    "import numpy as np\n",
    "import random\n",
    "\n",
    "# for reproduction\n",
    "s = 0\n",
    "random.seed(s)\n",
    "np.random.seed(s)"
   ]
  },
  {
   "cell_type": "markdown",
   "metadata": {},
   "source": [
    "# Synthetic dataset\n",
    "\n",
    "For this simple task, we first choose a ground truth function $f$ to generate a dataset $D$. Then, 50 input-output exampels are generated randomly."
   ]
  },
  {
   "cell_type": "code",
   "execution_count": 2,
   "metadata": {},
   "outputs": [],
   "source": [
    "def f(x):\n",
    "    \"\"\"Ground truth function\"\"\"\n",
    "    return -2 * x ** 2 + 11 * x + 13"
   ]
  },
  {
   "cell_type": "code",
   "execution_count": 3,
   "metadata": {},
   "outputs": [],
   "source": [
    "n_cases = 100\n",
    "X = np.random.uniform(-10, 10, size=n_cases)   # random numbers in range [-10, 10)\n",
    "Y = f(X) + np.random.normal(size=n_cases)   # Gaussian noise"
   ]
  },
  {
   "cell_type": "markdown",
   "metadata": {},
   "source": [
    "# Creating the primitives set\n",
    "The first step in GEP (or GP as well) is to specify the primitive set, which contains the elementary building blocks to formulate the model. For this problem, we have:\n",
    "+ function set: the standard arithmetic operators addition (+), subtraction (-), multiplication (*), and division (/).\n",
    "+ terminal set: only the single input 'x' and random numerical constants (RNC).\n",
    "\n",
    "NOTE:\n",
    "\n",
    "- We define a *protected division* to avoid dividing by zero.\n",
    "- Even there may be multiple RNCs in the model, we only need to call `PrimitiveSet.add_rnc` once."
   ]
  },
  {
   "cell_type": "code",
   "execution_count": 4,
   "metadata": {},
   "outputs": [],
   "source": [
    "def protected_div(x1, x2):\n",
    "    if abs(x2) < 1e-6:\n",
    "        return 1\n",
    "    return x1 / x2"
   ]
  },
  {
   "cell_type": "code",
   "execution_count": 5,
   "metadata": {},
   "outputs": [],
   "source": [
    "import operator \n",
    "\n",
    "pset = gep.PrimitiveSet('Main', input_names=['x'])\n",
    "pset.add_function(operator.add, 2)\n",
    "pset.add_function(operator.sub, 2)\n",
    "pset.add_function(operator.mul, 2)\n",
    "pset.add_function(protected_div, 2)\n",
    "pset.add_ephemeral(gen=lambda: random.randint(-5, 5), name='enc') # each ENC is a random integer within [-5, 5]"
   ]
  },
  {
   "cell_type": "markdown",
   "metadata": {},
   "source": [
    "# Create the individual and population\n",
    "Our objective is to **minimize** the MSE (mean squared error) for data fitting.\n",
    "## Define the indiviudal class, a subclass of *gep.Chromosome*"
   ]
  },
  {
   "cell_type": "code",
   "execution_count": 6,
   "metadata": {},
   "outputs": [],
   "source": [
    "from deap import creator, base, tools\n",
    "\n",
    "creator.create(\"FitnessMin\", base.Fitness, weights=(-1,))  # to minimize the objective (fitness)\n",
    "creator.create(\"Individual\", gep.Chromosome, fitness=creator.FitnessMin)"
   ]
  },
  {
   "cell_type": "markdown",
   "metadata": {},
   "source": [
    "## Register the individual and population creation operations\n",
    "In DEAP, it is recommended to register the operations used in evolution into a *toolbox* to make full use of DEAP functionality. The configuration of individuals in this problem is:\n",
    "+ head length: 6\n",
    "+ number of genes in each chromosome: 2\n",
    "\n",
    "Generally, more complicated problems require a larger head length and longer chromosomes formed with more genes."
   ]
  },
  {
   "cell_type": "code",
   "execution_count": 7,
   "metadata": {},
   "outputs": [],
   "source": [
    "h = 8 # head length\n",
    "n_genes = 2   # number of genes in a chromosome"
   ]
  },
  {
   "cell_type": "code",
   "execution_count": 8,
   "metadata": {},
   "outputs": [],
   "source": [
    "toolbox = gep.Toolbox()\n",
    "toolbox.register('gene_gen', gep.Gene, pset=pset, head_length=h)\n",
    "toolbox.register('individual', creator.Individual, gene_gen=toolbox.gene_gen, n_genes=n_genes, linker=operator.add)\n",
    "toolbox.register(\"population\", tools.initRepeat, list, toolbox.individual)\n",
    "\n",
    "# compile utility: which translates an individual into an executable function (Lambda)\n",
    "toolbox.register('compile', gep.compile_, pset=pset)"
   ]
  },
  {
   "cell_type": "markdown",
   "metadata": {},
   "source": [
    "# Define the fitness evaluation function\n",
    "In DEAP, the single objective optimization problem is just a special case of more general multiobjective ones. Since *geppy* is built on top of DEAP, it conforms to this convention. **Even if the fitness only contains one measure, keep in mind that DEAP stores it as an iterable.** \n",
    "\n",
    "Knowing that, you can understand why the evaluation function must return a tuple value (even if it is a 1-tuple). That's also why we set ``weights=(-1,)`` when creating the ``FitnessMax`` class."
   ]
  },
  {
   "cell_type": "code",
   "execution_count": 9,
   "metadata": {},
   "outputs": [],
   "source": [
    "def evaluate(individual):\n",
    "    \"\"\"Evalute the fitness of an individual: MAE (mean absolute error)\"\"\"\n",
    "    func = toolbox.compile(individual)\n",
    "    Yp = np.array(list(map(func, X)))\n",
    "    return np.mean(np.abs(Y - Yp)),"
   ]
  },
  {
   "cell_type": "code",
   "execution_count": 10,
   "metadata": {},
   "outputs": [],
   "source": [
    "toolbox.register('evaluate', evaluate)"
   ]
  },
  {
   "cell_type": "markdown",
   "metadata": {},
   "source": [
    "# Register genetic operators\n",
    "Compared with GP and other genetic algorithms, GEP has its own set of genetic operators aside from common mutation and crossover. For details, please check the tutorial [Introduction to gene expression programming](https://geppy.readthedocs.io/en/latest/intro_GEP.html).\n",
    "\n",
    "In the following code, the selection operator is ``tools.selTournament`` provided by DEAP, while all other operators are specially designed for GEP in *geppy*."
   ]
  },
  {
   "cell_type": "code",
   "execution_count": 11,
   "metadata": {},
   "outputs": [],
   "source": [
    "toolbox.register('select', tools.selTournament, tournsize=3)\n",
    "# 1. general operators\n",
    "toolbox.register('mut_uniform', gep.mutate_uniform, pset=pset, ind_pb=0.05, pb=1)\n",
    "toolbox.register('mut_invert', gep.invert, pb=0.1)\n",
    "toolbox.register('mut_is_transpose', gep.is_transpose, pb=0.1)\n",
    "toolbox.register('mut_ris_transpose', gep.ris_transpose, pb=0.1)\n",
    "toolbox.register('mut_gene_transpose', gep.gene_transpose, pb=0.1)\n",
    "toolbox.register('cx_1p', gep.crossover_one_point, pb=0.4)\n",
    "toolbox.register('cx_2p', gep.crossover_two_point, pb=0.2)\n",
    "toolbox.register('cx_gene', gep.crossover_gene, pb=0.1)\n",
    "toolbox.register('mut_ephemeral', gep.mutate_uniform_ephemeral, ind_pb='1p')  # 1p: expected one point mutation in an individual\n",
    "toolbox.pbs['mut_ephemeral'] = 1  # we can also give the probability via the pbs property"
   ]
  },
  {
   "cell_type": "markdown",
   "metadata": {},
   "source": [
    "# Statistics to be inspected\n",
    "We often need to monitor of progress of an evolutionary program. DEAP offers two classes to handle the boring work of recording statistics. Details are presented in [Computing statistics](http://deap.readthedocs.io/en/master/tutorials/basic/part3.html). In the following, we are intereted in the average/standard deviation/min/max of all the individuals' fitness in each generation."
   ]
  },
  {
   "cell_type": "code",
   "execution_count": 12,
   "metadata": {},
   "outputs": [],
   "source": [
    "stats = tools.Statistics(key=lambda ind: ind.fitness.values[0])\n",
    "stats.register(\"avg\", np.mean)\n",
    "stats.register(\"std\", np.std)\n",
    "stats.register(\"min\", np.min)\n",
    "stats.register(\"max\", np.max)"
   ]
  },
  {
   "cell_type": "markdown",
   "metadata": {},
   "source": [
    "# Launch evolution\n",
    "We make use of *geppy*'s builtin algorithm ``gep_rnc`` here to perform the GEP-RNC evolution. A special class from DEAP, `HallOfFame`, is adopted to store the best individuals ever found. Besides, it should be noted that in GEP [*elitism*](https://en.wikipedia.org/wiki/Genetic_algorithm#Elitism) is highly recommended because some genetic operators in GEP are destructive and may destroy the best individual we have evolved."
   ]
  },
  {
   "cell_type": "code",
   "execution_count": 13,
   "metadata": {},
   "outputs": [
    {
     "name": "stdout",
     "output_type": "stream",
     "text": [
      "gen\tnevals\tavg    \tstd   \tmin    \tmax    \n",
      "0  \t100   \t79.4587\t23.973\t45.5164\t214.695\n",
      "1  \t99    \t75.4905\t40.5669\t37.8129\t439.457\n",
      "2  \t99    \t88.677 \t109.27 \t37.8129\t1124.09\n",
      "3  \t99    \t73.7407\t50.186 \t37.8129\t563.628\n",
      "4  \t99    \t71.0043\t31.1534\t33.9589\t276.581\n",
      "5  \t99    \t70.92  \t25.0341\t33.9589\t224.67 \n",
      "6  \t99    \t72.0386\t29.7522\t33.9589\t233.428\n",
      "7  \t99    \t70.6307\t44.818 \t33.9589\t454.99 \n",
      "8  \t99    \t67.4841\t26.9538\t27.5087\t217.794\n",
      "9  \t99    \t117.757\t401.299\t27.5087\t4055.77\n",
      "10 \t99    \t66.3465\t34.0379\t21.709 \t257.506\n",
      "11 \t99    \t70.6989\t72.8965\t21.709 \t715.275\n",
      "12 \t99    \t62.9439\t37.5664\t17.3349\t289.113\n",
      "13 \t99    \t61.499 \t39.2303\t11.7365\t290.441\n",
      "14 \t99    \t81.2969\t211.174\t11.7365\t2131.13\n",
      "15 \t99    \t74.8441\t134.438\t11.7365\t1264.47\n",
      "16 \t99    \t53.1766\t26.8011\t11.7365\t153.616\n",
      "17 \t99    \t58.3356\t58.5394\t11.7365\t534.843\n",
      "18 \t99    \t57.6767\t61.9794\t11.1923\t574.972\n",
      "19 \t99    \t64.9053\t58.7572\t11.1923\t354.829\n",
      "20 \t99    \t56.5198\t51.477 \t11.1923\t451.527\n",
      "21 \t99    \t54.9307\t35.9624\t9.84254\t265.9  \n",
      "22 \t99    \t54.9059\t48.0281\t9.84254\t305.249\n",
      "23 \t99    \t54.983 \t41.4833\t8.17339\t285.73 \n",
      "24 \t99    \t58.0742\t60.1957\t5.20662\t494.735\n",
      "25 \t99    \t60.5768\t72.3804\t5.20662\t514.859\n",
      "26 \t99    \t61.3199\t52.0137\t5.06054\t267.486\n",
      "27 \t99    \t53.3119\t43.7299\t5.06054\t275.374\n",
      "28 \t99    \t48.9681\t39.1321\t5.06054\t259.214\n",
      "29 \t99    \t48.9197\t30.8892\t5.06054\t202.068\n",
      "30 \t99    \t61.5847\t58.7744\t5.06054\t360.496\n",
      "31 \t99    \t53.1044\t33.5916\t4.99381\t210.728\n",
      "32 \t99    \t59.2358\t54.172 \t4.99381\t344.444\n",
      "33 \t99    \t53.7678\t50.1861\t4.99381\t344.444\n",
      "34 \t99    \t65.946 \t83.122 \t4.99381\t549.752\n",
      "35 \t99    \t63.1615\t68.3318\t4.99381\t472.259\n",
      "36 \t99    \t51.1685\t32.7231\t4.99381\t266.552\n",
      "37 \t99    \t48.8076\t36.0616\t4.99381\t233.642\n",
      "38 \t99    \t60.4561\t57.9736\t4.99381\t329.972\n",
      "39 \t99    \t62.4514\t50.7983\t4.99381\t359.873\n",
      "40 \t99    \t56.8236\t48.2223\t4.99381\t292.389\n",
      "41 \t99    \t61.691 \t101.139\t4.99381\t1008.39\n",
      "42 \t99    \t59.0825\t65.2926\t4.99381\t532.674\n",
      "43 \t99    \t57.1249\t52.1968\t4.99381\t343.863\n",
      "44 \t99    \t49.3896\t37.917 \t4.99381\t290.468\n",
      "45 \t99    \t57.1417\t61.2893\t4.99381\t502.158\n",
      "46 \t99    \t48.4959\t37.0924\t4.99381\t278.409\n",
      "47 \t99    \t74.267 \t148.251\t4.99381\t1329.92\n",
      "48 \t99    \t47.7205\t42.596 \t3.19233\t388.957\n",
      "49 \t99    \t64.8454\t74.7842\t3.19233\t494.016\n",
      "50 \t99    \t55.7951\t50.5223\t0.862385\t436.195\n",
      "51 \t99    \t54.6923\t35.5585\t0.862385\t242.996\n",
      "52 \t99    \t64.7771\t65.5939\t0.862385\t500.653\n",
      "53 \t99    \t52.7095\t45.7508\t0.862385\t398.793\n",
      "54 \t99    \t56.9711\t67.275 \t0.862385\t574.911\n",
      "55 \t99    \t60.1999\t61.6848\t0.862385\t491.561\n",
      "56 \t99    \t53.0037\t48.5519\t0.862385\t350.136\n",
      "57 \t99    \t51.4799\t43.3428\t0.862385\t340.369\n",
      "58 \t99    \t49.841 \t51.2366\t0.862385\t343.165\n",
      "59 \t99    \t59.2577\t76.8349\t0.862385\t435.861\n",
      "60 \t99    \t75.5775\t226.6  \t0.862385\t2298.94\n",
      "61 \t99    \t69.9472\t83.0437\t0.862385\t507.667\n",
      "62 \t99    \t50.6626\t37.7745\t0.862385\t305.126\n",
      "63 \t99    \t64.0706\t109.836\t0.862385\t974.141\n",
      "64 \t99    \t60.9368\t55.666 \t0.862385\t409.767\n",
      "65 \t99    \t59.9965\t36.2814\t0.862385\t241.243\n",
      "66 \t99    \t62.0074\t51.9199\t0.862385\t384.295\n",
      "67 \t99    \t60.5162\t61.3777\t0.862385\t532.655\n",
      "68 \t99    \t56.1567\t49.0751\t0.862385\t426.882\n",
      "69 \t99    \t59.3875\t65.0409\t0.862385\t454.45 \n",
      "70 \t99    \t55.5789\t39.1678\t0.862385\t209.577\n",
      "71 \t99    \t64.9536\t54.541 \t0.862385\t376.822\n",
      "72 \t99    \t61.5761\t50.226 \t0.862385\t361.64 \n",
      "73 \t99    \t59.6785\t45.7857\t0.862385\t266.573\n",
      "74 \t99    \t51.2287\t37.7228\t0.862385\t239.24 \n",
      "75 \t99    \t63.1938\t79.9812\t0.862385\t501.664\n",
      "76 \t99    \t67.6135\t76.2297\t0.862385\t499.326\n",
      "77 \t99    \t54.9987\t32.426 \t0.862385\t189.994\n",
      "78 \t99    \t56.679 \t40.8915\t0.862385\t315.127\n",
      "79 \t99    \t68.2273\t105.377\t0.862385\t783.586\n",
      "80 \t99    \t51.1261\t47.463 \t0.862385\t377.27 \n",
      "81 \t99    \t57.3014\t55.8406\t0.862385\t386.441\n",
      "82 \t99    \t55.6268\t60.5968\t0.862385\t460.153\n",
      "83 \t99    \t59.3469\t75.3118\t0.862385\t679.097\n",
      "84 \t99    \t50.3846\t39.2063\t0.862385\t310.856\n",
      "85 \t99    \t66.9403\t69.5949\t0.862385\t400.087\n",
      "86 \t99    \t56.5111\t48.3483\t0.862385\t300.758\n",
      "87 \t99    \t57.7797\t42.1083\t0.862385\t324.865\n",
      "88 \t99    \t64.4825\t97.8723\t0.862385\t958.445\n",
      "89 \t99    \t48.5316\t31.3836\t0.862385\t189.589\n",
      "90 \t99    \t51.7841\t40.8576\t0.862385\t300.555\n",
      "91 \t99    \t52.9068\t38.0662\t0.862385\t261.003\n",
      "92 \t99    \t49.8923\t36.4106\t0.862385\t273.97 \n",
      "93 \t99    \t52.6861\t45.4422\t0.862385\t330.151\n",
      "94 \t99    \t68.1948\t195.54 \t0.862385\t1986.08\n",
      "95 \t99    \t67.6224\t76.2728\t0.862385\t517.939\n",
      "96 \t99    \t69.0058\t133.509\t0.862385\t1247.26\n",
      "97 \t99    \t51.3908\t30.9406\t0.862385\t194.236\n",
      "98 \t99    \t52.1445\t29.1494\t0.862385\t162.171\n",
      "99 \t99    \t55.3746\t37.9645\t0.862385\t244.331\n",
      "100\t99    \t70.0331\t79.8654\t0.862385\t614.334\n"
     ]
    }
   ],
   "source": [
    "# size of population and number of generations\n",
    "n_pop = 100\n",
    "n_gen = 100\n",
    "\n",
    "pop = toolbox.population(n=n_pop)\n",
    "hof = tools.HallOfFame(3)   # only record the best three individuals ever found in all generations\n",
    "\n",
    "# start evolution\n",
    "pop, log = gep.gep_simple(pop, toolbox, n_generations=n_gen, n_elites=1,\n",
    "                          stats=stats, hall_of_fame=hof, verbose=True)"
   ]
  },
  {
   "cell_type": "markdown",
   "metadata": {},
   "source": [
    "**Let's check the best individuals ever evolved.**"
   ]
  },
  {
   "cell_type": "code",
   "execution_count": 14,
   "metadata": {},
   "outputs": [
    {
     "name": "stdout",
     "output_type": "stream",
     "text": [
      "add(\n",
      "\tsub(x, mul(add(sub(x, 5), add(x, -4)), x)),\n",
      "\tsub(protected_div(add(x, -1), protected_div(x, x)), sub(1, mul(-5, -3)))\n",
      ")\n"
     ]
    }
   ],
   "source": [
    "print(hof[0])"
   ]
  },
  {
   "cell_type": "markdown",
   "metadata": {},
   "source": [
    "# *[optional]* Post-processing: simplification and visualization\n",
    "## Symbolic simplification of the final solution\n",
    "The original solution seems a little complicated, which may contain many redundancies, for example, `protected_div(x, x)` is just 1. We can perform symbolic simplification of the final result by `geppy.simplify` which depends on `sympy` package."
   ]
  },
  {
   "cell_type": "code",
   "execution_count": 15,
   "metadata": {},
   "outputs": [
    {
     "name": "stdout",
     "output_type": "stream",
     "text": [
      "Symplified best individual: \n",
      "-2*x*(x - 5) + x + 13\n"
     ]
    }
   ],
   "source": [
    "best_ind = hof[0]\n",
    "symplified_best = gep.simplify(best_ind)\n",
    "print('Symplified best individual: ')\n",
    "print(symplified_best)"
   ]
  },
  {
   "cell_type": "markdown",
   "metadata": {},
   "source": [
    "As we can see from the above simplified expression, the *truth model* has been successfully found. Due to the existence of Gaussian noise, the minimum mean absolute error （MAE) is still not zero even the best individual represents the true model."
   ]
  },
  {
   "cell_type": "markdown",
   "metadata": {},
   "source": [
    "## Visualization\n",
    "If you are interested in the expression tree corresponding to the individual, i.e., the genotype/phenotype system, *geppy* supports tree visualization by the `graph` and the `export_expression_tree` functions:\n",
    "\n",
    "- `graph` only outputs the nodes and links information to describe the tree topology, with which you can render the tree with tools you like;\n",
    "- `export_expression_tree` implements tree visualization with data generated by `graph` internally using the `graphviz` package. "
   ]
  },
  {
   "cell_type": "code",
   "execution_count": 16,
   "metadata": {},
   "outputs": [],
   "source": [
    " # we want use symbol labels instead of words in the tree graph\n",
    "rename_labels = {'add': '+', 'sub': '-', 'mul': '*', 'protected_div': '/'}  \n",
    "gep.export_expression_tree(best_ind, rename_labels, 'data/numerical_expression_tree.png')"
   ]
  },
  {
   "cell_type": "code",
   "execution_count": 17,
   "metadata": {},
   "outputs": [
    {
     "data": {
      "image/png": "[encoded data removed]",
      "text/plain": [
       "<IPython.core.display.Image object>"
      ]
     },
     "execution_count": 17,
     "metadata": {},
     "output_type": "execute_result"
    }
   ],
   "source": [
    "# show the above image here for convenience\n",
    "from IPython.display import Image\n",
    "Image(filename='data/numerical_expression_tree.png') "
   ]
  },
  {
   "cell_type": "markdown",
   "metadata": {},
   "source": [
    "# Discussion\n",
    "If only integer constants are involved, then the GEP-RNC algorithm and the ENC-based algorithm can both be adopted. However, generally the GEP-RNC algorithm is more effective.\n",
    "\n",
    "In other cases where the model is more complicated involving real coefficients and constants, then both of the above two algorithms will have difficulty in optimizing these constants. A better way is to incorporate a local optimization into GEP dedicated to constant number optimization. \n",
    "\n",
    "You may like to compare this solution with the one solved with GEP-RNC [GEP-RNC for numerical expression inference](./numerical_expression_inference.ipynb)."
   ]
  }
 ],
 "metadata": {
  "kernelspec": {
   "display_name": "Python 3",
   "language": "python",
   "name": "python3"
  },
  "language_info": {
   "codemirror_mode": {
    "name": "ipython",
    "version": 3
   },
   "file_extension": ".py",
   "mimetype": "text/x-python",
   "name": "python",
   "nbconvert_exporter": "python",
   "pygments_lexer": "ipython3",
   "version": "3.6.5"
  }
 },
 "nbformat": 4,
 "nbformat_minor": 2
}
