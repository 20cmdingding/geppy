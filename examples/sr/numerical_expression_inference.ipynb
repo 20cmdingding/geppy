{
 "cells": [
  {
   "cell_type": "markdown",
   "metadata": {},
   "source": [
    "# Numerical expression inference problem: the GEP-RNC algorithm\n",
    "In this example, we aim to identify a mathematicalfunction $f$ from the given input-ouput data such that the function $f$ can produce the expected ouput given a certain input. This is a typical [symbolic regression](https://en.wikipedia.org/wiki/Symbolic_regression) problem:\n",
    "\n",
    "> Symbolic regression is a type of regression analysis that searches the space of mathematical expressions to find the model that best fits a given dataset, both in terms of accuracy and simplicity.\n",
    "\n",
    "which is most commonly solved with genetic programming and its variant, gene expression programming (GEP), presented here. \n",
    "\n",
    "Before continuing this example, you'd better first go through the two fundamental tutorials listed below to get familiar with GEP and *geppy*:\n",
    "+ [Introduction to gene expression programming](https://geppy.readthedocs.io/en/latest/intro_GEP.html)\n",
    "+ [Overview of geppy for Gene Expression Programming (GEP)](https://geppy.readthedocs.io/en/latest/overview.html)\n",
    "\n",
    "The main difference of this problem w.r.t the [Boolean function identification](Boolean_function_identification.ipynb) problem is that generally a mathematical model involves constant coefficients, which is more challenging for both genetic programming (GP) and GEP. The standard way to handle numerical constants in GEP is to add another Dc domain in the genes dedicated to random numerical constant (RNC) evolution, i.e., the GEP-RNC algorithm. Please check \n",
    "\n",
    "To check the detailed documentation of each function/class in *geppy*, please refer to [library reference](https://geppy.readthedocs.io/en/latest/#library-reference)."
   ]
  },
  {
   "cell_type": "code",
   "execution_count": 1,
   "metadata": {},
   "outputs": [],
   "source": [
    "import geppy as gep\n",
    "from deap import creator, base, tools\n",
    "import numpy as np\n",
    "import random\n",
    "\n",
    "# for reproduction\n",
    "s = 12\n",
    "random.seed(s)\n",
    "np.random.seed(s)"
   ]
  },
  {
   "cell_type": "markdown",
   "metadata": {},
   "source": [
    "# Synthetic dataset\n",
    "\n",
    "For this simple task, we first choose a ground truth function $f$ to generate a dataset $D$. Then, 50 input-output exampels are generated randomly."
   ]
  },
  {
   "cell_type": "code",
   "execution_count": 2,
   "metadata": {},
   "outputs": [],
   "source": [
    "def f(x):\n",
    "    \"\"\"Ground truth function\"\"\"\n",
    "    return -2 * x ** 2 + 21 * x - 84"
   ]
  },
  {
   "cell_type": "code",
   "execution_count": 3,
   "metadata": {},
   "outputs": [],
   "source": [
    "n_cases = 100\n",
    "X = np.random.uniform(-10, 10, size=n_cases)   # random numbers in range [-10, 10)\n",
    "Y = f(X) + np.random.normal(size=n_cases)   # Gaussian noise"
   ]
  },
  {
   "cell_type": "markdown",
   "metadata": {},
   "source": [
    "# Creating the primitives set\n",
    "The first step in GEP (or GP as well) is to specify the primitive set, which contains the elementary building blocks to formulate the model. For this problem, we have:\n",
    "+ function set: the standard arithmetic operators addition (+), subtraction (-), multiplication (*), and division (/).\n",
    "+ terminal set: only the single input 'x' and random numerical constants (RNC).\n",
    "\n",
    "NOTE:\n",
    "\n",
    "- We define a *protected division* to avoid dividing by zero.\n",
    "- Even there may be multiple RNCs in the model, we only need to call `PrimitiveSet.add_rnc` once."
   ]
  },
  {
   "cell_type": "code",
   "execution_count": 4,
   "metadata": {},
   "outputs": [],
   "source": [
    "def protected_div(x1, x2):\n",
    "    if abs(x2) < 1e-6:\n",
    "        return 1\n",
    "    return x1 / x2"
   ]
  },
  {
   "cell_type": "code",
   "execution_count": 5,
   "metadata": {},
   "outputs": [],
   "source": [
    "import operator \n",
    "\n",
    "pset = gep.PrimitiveSet('Main', input_names=['x'])\n",
    "pset.add_function(operator.add, 2)\n",
    "pset.add_function(operator.sub, 2)\n",
    "pset.add_function(operator.mul, 2)\n",
    "pset.add_function(protected_div, 2)\n",
    "pset.add_rnc()"
   ]
  },
  {
   "cell_type": "markdown",
   "metadata": {},
   "source": [
    "# Create the individual and population\n",
    "Our objective is to **minimize** the MSE (mean squared error) for data fitting.\n",
    "## Define the indiviudal class, a subclass of *gep.Chromosome*"
   ]
  },
  {
   "cell_type": "code",
   "execution_count": 6,
   "metadata": {},
   "outputs": [],
   "source": [
    "from deap import creator, base, tools\n",
    "\n",
    "creator.create(\"FitnessMin\", base.Fitness, weights=(-1,))  # to minimize the objective (fitness)\n",
    "creator.create(\"Individual\", gep.Chromosome, fitness=creator.FitnessMin)"
   ]
  },
  {
   "cell_type": "markdown",
   "metadata": {},
   "source": [
    "## Register the individual and population creation operations\n",
    "In DEAP, it is recommended to register the operations used in evolution into a *toolbox* to make full use of DEAP functionality. The configuration of individuals in this problem is:\n",
    "+ head length: 7\n",
    "+ number of genes in each chromosome: 2\n",
    "+ RNC array length: 5\n",
    "\n",
    "Generally, more complicated problems require a larger head length and longer chromosomes formed with more genes. **The most important is that we should use the `GeneDc` class for genes to make use of the GEP-RNC algorithm.**"
   ]
  },
  {
   "cell_type": "code",
   "execution_count": 7,
   "metadata": {},
   "outputs": [],
   "source": [
    "h = 8 # head length\n",
    "n_genes = 2   # number of genes in a chromosome\n",
    "r = 8   # length of the RNC array"
   ]
  },
  {
   "cell_type": "code",
   "execution_count": 8,
   "metadata": {},
   "outputs": [],
   "source": [
    "toolbox = base.Toolbox()\n",
    "toolbox.register('rnc_gen', random.randint, a=-5, b=5)   # each RNC is random integer within [-5, 5]\n",
    "# gene_gen binds parameters for GeneDc.__init__, then toolbox.gene_gen() will create a gene\n",
    "toolbox.register('gene_gen', gep.GeneDc, pset=pset, head_length=h, rnc_gen=toolbox.rnc_gen, rnc_array_length=r)\n",
    "toolbox.register('individual', creator.Individual, gene_gen=toolbox.gene_gen, n_genes=n_genes, linker=operator.add)\n",
    "toolbox.register(\"population\", tools.initRepeat, list, toolbox.individual)\n",
    "\n",
    "# compile utility: which translates an individual into an executable function (Lambda)\n",
    "toolbox.register('compile', gep.compile_, pset=pset)"
   ]
  },
  {
   "cell_type": "markdown",
   "metadata": {},
   "source": [
    "# Define the fitness evaluation function\n",
    "In DEAP, the single objective optimization problem is just a special case of more general multiobjective ones. Since *geppy* is built on top of DEAP, it conforms to this convention. **Even if the fitness only contains one measure, keep in mind that DEAP stores it as an iterable.** \n",
    "\n",
    "Knowing that, you can understand why the evaluation function must return a tuple value (even if it is a 1-tuple). That's also why we set ``weights=(-1,)`` when creating the ``FitnessMax`` class."
   ]
  },
  {
   "cell_type": "code",
   "execution_count": 9,
   "metadata": {},
   "outputs": [],
   "source": [
    "def evaluate(individual):\n",
    "    \"\"\"Evalute the fitness of an individual: MAE (mean absolute error)\"\"\"\n",
    "    func = toolbox.compile(individual)\n",
    "    Yp = np.array(list(map(func, X)))\n",
    "    return np.mean(np.abs(Y - Yp)),"
   ]
  },
  {
   "cell_type": "code",
   "execution_count": 10,
   "metadata": {},
   "outputs": [],
   "source": [
    "toolbox.register('evaluate', evaluate)"
   ]
  },
  {
   "cell_type": "markdown",
   "metadata": {},
   "source": [
    "# Register genetic operators\n",
    "Compared with GP and other genetic algorithms, GEP has its own set of genetic operators aside from common mutation and crossover. For details, please check the tutorial [Introduction to gene expression programming](https://geppy.readthedocs.io/en/latest/intro_GEP.html).\n",
    "\n",
    "In the following code, the selection operator is ``tools.selTournament`` provided by DEAP, while all other operators are specially designed for GEP in *geppy*."
   ]
  },
  {
   "cell_type": "code",
   "execution_count": 11,
   "metadata": {},
   "outputs": [],
   "source": [
    "toolbox.register('select', tools.selTournament, tournsize=5)\n",
    "# 1. general operators\n",
    "toolbox.register('mutate', gep.mutate_uniform, pset=pset, ind_pb=0.05)\n",
    "toolbox.register('invert', gep.invert)\n",
    "toolbox.register('is_Transpose', gep.is_transpose)\n",
    "toolbox.register('ris_Transpose', gep.ris_transpose)\n",
    "toolbox.register('gene_Transpose', gep.gene_transpose)\n",
    "toolbox.register('crossover_one_point', gep.crossover_one_point)\n",
    "toolbox.register('crossover_two_point', gep.crossover_two_point)\n",
    "toolbox.register('crossover_gene', gep.crossover_gene)\n",
    "# 2. Dc-specific operators\n",
    "toolbox.register('mutate_dc', gep.mutate_uniform_dc, ind_pb=0.05)\n",
    "toolbox.register('invert_dc', gep.invert_dc)\n",
    "toolbox.register('transpose_dc', gep.transpose_dc)\n",
    "toolbox.register('mutate_rnc_array_dc', gep.mutate_rnc_array_dc, rnc_gen=toolbox.rnc_gen, ind_pb=0.01)"
   ]
  },
  {
   "cell_type": "markdown",
   "metadata": {},
   "source": [
    "# Statistics to be inspected\n",
    "We often need to monitor of progress of an evolutionary program. DEAP offers two classes to handle the boring work of recording statistics. Details are presented in [Computing statistics](http://deap.readthedocs.io/en/master/tutorials/basic/part3.html). In the following, we are intereted in the average/standard deviation/min/max of all the individuals' fitness in each generation."
   ]
  },
  {
   "cell_type": "code",
   "execution_count": 12,
   "metadata": {},
   "outputs": [],
   "source": [
    "stats = tools.Statistics(key=lambda ind: ind.fitness.values[0])\n",
    "stats.register(\"avg\", np.mean)\n",
    "stats.register(\"std\", np.std)\n",
    "stats.register(\"min\", np.min)\n",
    "stats.register(\"max\", np.max)"
   ]
  },
  {
   "cell_type": "markdown",
   "metadata": {},
   "source": [
    "# Launch evolution\n",
    "We make use of *geppy*'s builtin algorithm ``gep_rnc`` here to perform the GEP-RNC evolution. A special class from DEAP, `HallOfFame`, is adopted to store the best individuals ever found. Besides, it should be noted that in GEP [*elitism*](https://en.wikipedia.org/wiki/Genetic_algorithm#Elitism) is highly recommended because some genetic operators in GEP are destructive and may destroy the best individual we have evolved."
   ]
  },
  {
   "cell_type": "code",
   "execution_count": 13,
   "metadata": {},
   "outputs": [
    {
     "name": "stdout",
     "output_type": "stream",
     "text": [
      "gen\tnevals\tavg   \tstd    \tmin    \tmax    \n",
      "0  \t300   \t173.51\t141.833\t62.6792\t2431.68\n",
      "1  \t298   \t174.106\t392.286\t62.6792\t6919.84\n",
      "2  \t298   \t155.742\t119.277\t61.7432\t1846.12\n",
      "3  \t298   \t268.001\t1326.56\t46.3216\t20990.1\n",
      "4  \t298   \t229.743\t458.305\t46.3216\t4869.73\n",
      "5  \t298   \t269.355\t805.483\t46.3216\t11645.7\n",
      "6  \t298   \t315.92 \t769.945\t40.647 \t8572.75\n",
      "7  \t298   \t331.491\t751.294\t40.647 \t7226.5 \n",
      "8  \t298   \t307.603\t843.29 \t39.7501\t9923.25\n",
      "9  \t298   \t337.021\t565.274\t39.7501\t5438.28\n",
      "10 \t298   \t343.176\t791.481\t39.7501\t8764.6 \n",
      "11 \t298   \t530.6  \t2610.14\t39.0962\t42488.6\n",
      "12 \t298   \t278.766\t532.089\t28.6222\t4735.88\n",
      "13 \t298   \t357.759\t845.873\t28.6222\t8107.37\n",
      "14 \t298   \t303.805\t742.246\t28.6222\t6339.69\n",
      "15 \t298   \t332.643\t982.668\t18.183 \t7492.11\n",
      "16 \t298   \t550.608\t6113.02\t18.183 \t105820 \n",
      "17 \t298   \t167.413\t428.019\t2.17636\t6940.81\n",
      "18 \t298   \t174.126\t409.997\t2.17636\t6167.06\n",
      "19 \t298   \t189.182\t572.457\t2.17636\t7969.52\n",
      "20 \t298   \t147.469\t211.423\t2.17636\t2387.1 \n",
      "21 \t298   \t159.376\t263.619\t2.17636\t2308.28\n",
      "22 \t298   \t151.283\t212.196\t2.17636\t1852.68\n",
      "23 \t298   \t151.538\t194.898\t2.17636\t1693.51\n",
      "24 \t298   \t155.022\t181.375\t2.17636\t1098.38\n",
      "25 \t298   \t130.651\t166.85 \t2.17636\t1418.28\n",
      "26 \t298   \t142.071\t345.334\t2.17636\t5494.69\n",
      "27 \t298   \t155.103\t206.596\t2.17636\t1889.45\n",
      "28 \t298   \t158.861\t289.716\t2.17636\t4309.95\n",
      "29 \t298   \t166.222\t259.891\t2.17636\t2590.32\n",
      "30 \t298   \t130.502\t157.718\t2.17636\t1220.05\n",
      "31 \t298   \t165.228\t291.401\t2.17636\t3779.04\n",
      "32 \t298   \t143.896\t257.096\t2.17636\t3402.62\n",
      "33 \t298   \t132.937\t211.372\t2.17636\t2320.54\n",
      "34 \t298   \t149.086\t205.575\t2.17636\t1544.99\n",
      "35 \t298   \t146.687\t239.543\t2.17636\t2994.15\n",
      "36 \t298   \t164.554\t248.546\t2.17636\t2173.39\n",
      "37 \t298   \t145.15 \t178.96 \t1.86918\t1831.11\n",
      "38 \t298   \t131.118\t183.777\t1.86918\t1619.83\n",
      "39 \t298   \t144.777\t208.961\t1.86918\t2470.48\n",
      "40 \t298   \t131.337\t174.509\t1.86918\t1230.11\n",
      "41 \t298   \t127.798\t165.2  \t1.86918\t1418.28\n",
      "42 \t298   \t151.606\t204.451\t1.86918\t2131.71\n",
      "43 \t298   \t158.73 \t206.264\t1.86918\t1829   \n",
      "44 \t298   \t182.619\t466.52 \t1.86918\t7239.22\n",
      "45 \t298   \t155.138\t195.427\t1.86918\t1783.75\n",
      "46 \t298   \t172.048\t521.095\t1.86918\t8596.97\n",
      "47 \t298   \t189.145\t715.294\t1.09346\t12079.4\n",
      "48 \t298   \t135.587\t166.289\t1.09346\t1397.14\n",
      "49 \t298   \t151.141\t181.193\t1.09346\t1261.89\n",
      "50 \t298   \t192.511\t755.098\t1.09346\t12073.7\n",
      "51 \t298   \t157.99 \t375.511\t1.09346\t5693.24\n",
      "52 \t298   \t180.276\t291.815\t1.09346\t3112.78\n",
      "53 \t298   \t136.273\t136.633\t1.09346\t1028.97\n",
      "54 \t298   \t140.372\t162.646\t1.09346\t1255.32\n",
      "55 \t298   \t154.771\t219.08 \t0.898237\t2231.48\n",
      "56 \t298   \t180.905\t572.324\t0.898237\t7500.18\n",
      "57 \t298   \t175.485\t470.66 \t0.898237\t7324.58\n",
      "58 \t298   \t149.886\t218.802\t0.898237\t1761.63\n",
      "59 \t298   \t148.224\t230.755\t0.898237\t2384.05\n",
      "60 \t298   \t133.782\t172.374\t0.898237\t1406   \n",
      "61 \t298   \t160.577\t215.439\t0.898237\t1557.89\n",
      "62 \t298   \t125.94 \t136.877\t0.898237\t775.287\n",
      "63 \t298   \t150.085\t222.022\t0.898237\t1744.03\n",
      "64 \t298   \t156.38 \t212.742\t0.898237\t1689.27\n",
      "65 \t298   \t123.642\t133.011\t0.898237\t740.725\n",
      "66 \t298   \t151.557\t248.497\t0.898237\t2402.81\n",
      "67 \t298   \t163.525\t239.158\t0.898237\t2660.89\n",
      "68 \t298   \t160.959\t461.926\t0.898237\t7243.63\n",
      "69 \t298   \t144.119\t216.149\t0.898237\t2402.71\n",
      "70 \t298   \t125.161\t145.827\t0.898237\t1185.52\n",
      "71 \t298   \t148.69 \t267.124\t0.898237\t3489.91\n",
      "72 \t298   \t167.521\t429.61 \t0.898237\t7001.05\n",
      "73 \t298   \t135.664\t173.259\t0.898237\t1258.83\n",
      "74 \t298   \t140.448\t158.902\t0.898237\t965.722\n",
      "75 \t298   \t143.454\t210.127\t0.898237\t2038.49\n",
      "76 \t298   \t147.692\t241.346\t0.898237\t2841.28\n",
      "77 \t298   \t180.622\t884.447\t0.898237\t15210.2\n",
      "78 \t298   \t154.377\t219.156\t0.898237\t1883.03\n",
      "79 \t298   \t166.773\t253.65 \t0.898237\t2408.31\n",
      "80 \t298   \t159.216\t216.248\t0.898237\t2157.72\n",
      "81 \t298   \t149.734\t262.643\t0.898237\t3880.89\n",
      "82 \t298   \t136.109\t164.806\t0.898237\t1351   \n",
      "83 \t298   \t168.218\t210.279\t0.898237\t1453.26\n",
      "84 \t298   \t145.965\t222.504\t0.898237\t2377.88\n",
      "85 \t298   \t146.469\t185.336\t0.898237\t1578.96\n",
      "86 \t298   \t163.081\t325.435\t0.898237\t4627.89\n",
      "87 \t298   \t142.712\t280.609\t0.898237\t3885.29\n",
      "88 \t298   \t124.032\t134.462\t0.898237\t687.47 \n",
      "89 \t298   \t143.374\t174.955\t0.898237\t1256.85\n",
      "90 \t298   \t145.528\t191.341\t0.898237\t1981.85\n",
      "91 \t298   \t127.763\t135.458\t0.898237\t765.303\n",
      "92 \t298   \t146.886\t222.171\t0.898237\t2514.27\n",
      "93 \t298   \t148.038\t213.116\t0.898237\t2063.23\n",
      "94 \t298   \t158.941\t261.958\t0.898237\t3249.98\n",
      "95 \t298   \t158.379\t317.273\t0.898237\t3653.68\n",
      "96 \t298   \t139.681\t201.687\t0.898237\t2363.99\n",
      "97 \t298   \t138.562\t220.204\t0.898237\t2203.77\n",
      "98 \t298   \t150.678\t278.643\t0.898237\t3880.89\n",
      "99 \t298   \t143.686\t195.326\t0.898237\t1302.85\n",
      "100\t298   \t129.383\t170.364\t0.898237\t1255.93\n"
     ]
    }
   ],
   "source": [
    "# size of population and number of generations\n",
    "n_pop = 300\n",
    "n_gen = 100\n",
    "\n",
    "pop = toolbox.population(n=n_pop)\n",
    "hof = tools.HallOfFame(3)   # only record the best three individuals ever found in all generations\n",
    "\n",
    "# start evolution\n",
    "pop, log = gep.gep_rnc(pop, toolbox, mutation_pb=1, inversion_pb=0.1, is_transposition_pb=0.1, ris_transposition_pb=0.1, \n",
    "                          gene_transposition_pb=0.1, crossover_1p_pb=0.3, crossover_2p_pb=0.2, crossover_gene_pb=0.1,\n",
    "                          dc_mutation_pb=1, dc_inversion_pb=0.1, dc_transposition_pb=0.1, dc_rnc_array_mutation_pb=1,\n",
    "                            n_generations=n_gen, n_elites=2,\n",
    "                          stats=stats, hall_of_fame=hof, verbose=True)"
   ]
  },
  {
   "cell_type": "markdown",
   "metadata": {},
   "source": [
    "**Let's check the best individuals ever evolved.**"
   ]
  },
  {
   "cell_type": "code",
   "execution_count": 14,
   "metadata": {},
   "outputs": [
    {
     "name": "stdout",
     "output_type": "stream",
     "text": [
      "add(\n",
      "\tadd(mul(0, protected_div(x, x)), add(mul(x, -5), -4)),\n",
      "\tmul(mul(sub(-5, -3), sub(x, 5)), sub(-5, sub(3, x)))\n",
      ")\n"
     ]
    }
   ],
   "source": [
    "print(hof[0])"
   ]
  },
  {
   "cell_type": "markdown",
   "metadata": {},
   "source": [
    "# *[optional]* Post-processing: simplification and visualization\n",
    "## Symbolic simplification of the final solution\n",
    "The original solution seems a little complicated, which may contain many redundancies, for example, `protected_div(x, x)` is just 1. We can perform symbolic simplification of the final result by `geppy.simplify` which depends on `sympy` package."
   ]
  },
  {
   "cell_type": "code",
   "execution_count": 15,
   "metadata": {},
   "outputs": [
    {
     "name": "stdout",
     "output_type": "stream",
     "text": [
      "Symplified best individual: \n",
      "-2*x**2 + 21*x - 84\n"
     ]
    }
   ],
   "source": [
    "best_ind = hof[2]\n",
    "symplified_best = gep.simplify(best_ind)\n",
    "print('Symplified best individual: ')\n",
    "print(symplified_best)"
   ]
  },
  {
   "cell_type": "markdown",
   "metadata": {},
   "source": [
    "## Visualization\n",
    "If you are interested in the expression tree corresponding to the individual, i.e., the genotype/phenotype system, *geppy* supports tree visualization by the `graph` and the `export_expression_tree` functions:\n",
    "\n",
    "- `graph` only outputs the nodes and links information to describe the tree topology, with which you can render the tree with tools you like;\n",
    "- `export_expression_tree` implements tree visualization with data generated by `graph` internally using the `graphviz` package. "
   ]
  },
  {
   "cell_type": "code",
   "execution_count": 16,
   "metadata": {},
   "outputs": [],
   "source": [
    " # we want use symbol labels instead of words in the tree graph\n",
    "rename_labels = {'add': '+', 'sub': '-', 'mul': '*', 'protected_div': '/'}  \n",
    "gep.export_expression_tree(best_ind, rename_labels, 'data/numerical_expression_tree.png')"
   ]
  },
  {
   "cell_type": "code",
   "execution_count": 17,
   "metadata": {},
   "outputs": [
    {
     "data": {
      "image/png": "[encoded data removed]",
      "text/plain": [
       "<IPython.core.display.Image object>"
      ]
     },
     "execution_count": 17,
     "metadata": {},
     "output_type": "execute_result"
    }
   ],
   "source": [
    "# show the above image here for convenience\n",
    "from IPython.display import Image\n",
    "Image(filename='data/numerical_expression_tree.png') "
   ]
  },
  {
   "cell_type": "markdown",
   "metadata": {},
   "source": [
    "# Discussion\n",
    "If only integer constants are involved, then the GEP-RNC algorithm is very effective. If the constants are general real numbers, then more advanced techniques like local search may be more suitable."
   ]
  }
 ],
 "metadata": {
  "kernelspec": {
   "display_name": "Python 3",
   "language": "python",
   "name": "python3"
  },
  "language_info": {
   "codemirror_mode": {
    "name": "ipython",
    "version": 3
   },
   "file_extension": ".py",
   "mimetype": "text/x-python",
   "name": "python",
   "nbconvert_exporter": "python",
   "pygments_lexer": "ipython3",
   "version": "3.6.5"
  }
 },
 "nbformat": 4,
 "nbformat_minor": 2
}
